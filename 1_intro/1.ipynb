{
 "cells": [
  {
   "cell_type": "markdown",
   "source": [
    "**Практическая работа #1**"
   ],
   "metadata": {}
  },
  {
   "cell_type": "markdown",
   "source": [
    "1. hit rate at k\n",
    "\n",
    "2. money_precision_at_k\n",
    "\n",
    "3. recall_at_k\n",
    "4. money_recall_at_k\n",
    "\n",
    "5. map@k\n",
    "6. *NDCG@k - для оценок пользователей (1-3) по учебному примеру из лекции\n",
    "\n",
    "7. Mean Reciprocal Rank\n",
    "8. *average_precision для ранжирования по примеру с картинки лекции\n",
    "\n"
   ],
   "metadata": {}
  },
  {
   "cell_type": "code",
   "execution_count": 2,
   "source": [
    "import pandas as pd\n",
    "import numpy as np"
   ],
   "outputs": [],
   "metadata": {}
  },
  {
   "cell_type": "markdown",
   "source": [
    "### 1. Hit rate\n",
    "\n",
    "Hit rate = был ли хотя бы 1 релевантный товар среди рекомендованных\n",
    "\n",
    "- Иногда применяется, когда продаются достаточно дрогие товары (например, бытовая техника) \n",
    "\n",
    "----\n",
    "Hit rate = (был ли хотя бы 1 релевантный товар среди рекомендованных)   \n",
    "\n",
    "Hit rate@k = (был ли хотя бы 1 релевантный товар среди топ-k рекомендованных)"
   ],
   "metadata": {}
  },
  {
   "cell_type": "code",
   "execution_count": 90,
   "source": [
    "recommended_list = [143, 156, 1134, 991, 27, 1543, 3345, 533, 11, 43] #id товаров\n",
    "bought_list = [521, 32, 143, 991]\n",
    "np.random.seed(0)\n",
    "prices_recommended = np.random.randint(1e3, size=len(recommended_list))\n",
    "\n",
    "prices_bought = [prices_recommended[i] if (recommended_list[i] in bought_list) else np.random.randint(1e3) for i in range(len(bought_list))] \n",
    "\n",
    "def hit_rate_at_k(recommended_list, bought_list, k=5):\n",
    "    bought_list = np.array(bought_list)\n",
    "    recommended_list = np.array(recommended_list)[:k]\n",
    "\n",
    "    flags = np.isin(bought_list, recommended_list)\n",
    "\n",
    "    hit_rate = (flags.sum() > 0) * 1\n",
    "\n",
    "    return hit_rate\n",
    "\n",
    "\n",
    "hit_rate_at_k(recommended_list, bought_list)"
   ],
   "outputs": [
    {
     "output_type": "execute_result",
     "data": {
      "text/plain": [
       "1"
      ]
     },
     "metadata": {},
     "execution_count": 90
    }
   ],
   "metadata": {}
  },
  {
   "cell_type": "markdown",
   "source": [
    "### 2. Precision\n",
    "\n",
    "*Precision* - доля релевантных товаров среди рекомендованных = Какой % рекомендованных товаров  юзер купил\n",
    "\n",
    "---\n",
    "\n",
    "Precision= (# of recommended items that are relevant) / (# of recommended items)  \n",
    "\n",
    "Precision@k = (# of recommended items @k that are relevant) / (# of recommended items @k)\n",
    "\n",
    "Money Precision@k = (revenue of recommended items @k that are relevant) / (revenue of recommended items @k)  \n"
   ],
   "metadata": {}
  },
  {
   "cell_type": "code",
   "execution_count": 105,
   "source": [
    "def precision_at_k(recommended_list, bought_list, k=5):\n",
    "    \n",
    "    bought_list = np.array(bought_list)\n",
    "    recommended_list = np.array(recommended_list)\n",
    "    \n",
    "    bought_list = bought_list\n",
    "    recommended_list = recommended_list[:k]\n",
    "    \n",
    "    flags = np.isin(bought_list, recommended_list)\n",
    "    \n",
    "    precision = flags.sum() / len(recommended_list)\n",
    "    \n",
    "    \n",
    "    return precision\n",
    "\n",
    "def money_precision_at_k(recommended_list, bought_list, prices_recommended, k=5):\n",
    "    bought_list = np.array(bought_list) \n",
    "\n",
    "    recommended_list = np.array(recommended_list)[:k]\n",
    "    prices_recommended = np.array(prices_recommended)[:k]\n",
    "\n",
    "    relevant_revenue = sum(prices_recommended[np.isin(recommended_list, bought_list)])\n",
    "    recommend_revenue = sum(prices_recommended)\n",
    "\n",
    "    precision = relevant_revenue / recommend_revenue\n",
    "    print(\"recommended:\", recommended_list, \n",
    "          \"\\nprices:\", prices_recommended,\n",
    "          \"\\nbought:\", bought_list)\n",
    "    print(\"relevant_revenue:\", relevant_revenue, \n",
    "          \"\\nrecommended_revenue:\", recommend_revenue)\n",
    "\n",
    "    return precision\n",
    "np.random.seed(11)\n",
    "\n",
    "print(\"money precision:\", money_precision_at_k(recommended_list, bought_list, prices_recommended))"
   ],
   "outputs": [
    {
     "output_type": "stream",
     "name": "stdout",
     "text": [
      "recommended: [ 143  156 1134  991   27] \n",
      "prices: [684 559 629 192 835] \n",
      "bought: [521  32 143 991]\n",
      "relevant_revenue: 876 \n",
      "recommended_revenue: 2899\n",
      "money precision: 0.30217316315971027\n"
     ]
    }
   ],
   "metadata": {}
  },
  {
   "cell_type": "markdown",
   "source": [
    "### 3. Recall\n",
    "\n",
    "*Recall* - доля рекомендованных товаров среди релевантных = Какой % купленных товаров был среди рекомендованных\n",
    "\n",
    "---\n",
    "\n",
    "Recall= (# of recommended items that are relevant) / (# of relevant items)  \n",
    "\n",
    "Recall@k = (# of recommended items @k that are relevant) / (# of relevant items)\n",
    "\n",
    "Money Recall@k = (revenue of recommended items @k that are relevant) / (revenue of relevant items)  "
   ],
   "metadata": {}
  },
  {
   "cell_type": "code",
   "execution_count": 102,
   "source": [
    "def recall_at_k(recommended_list, bought_list, k=5):\n",
    "    \n",
    "    bought_list = np.array(bought_list)\n",
    "    recommended_list = np.array(recommended_list)[:k]\n",
    "\n",
    "    flags = np.isin(bought_list, recommended_list)\n",
    "\n",
    "    recall = flags.sum() / len(bought_list)\n",
    " \n",
    "    return recall\n",
    "\n",
    "\n",
    "def money_recall_at_k(recommended_list, bought_list, prices_recommended, prices_bought, k=5):\n",
    "\n",
    "    prices_bought = np.array(prices_bought)\n",
    "    recommended_list = np.array(recommended_list)[:k]\n",
    "    prices_recommended = np.array(prices_recommended)[:k]\n",
    "    \n",
    "    print(\"recommended_list @k:\", recommended_list)\n",
    "    print(\"prices_recommended @k:\", prices_recommended)\n",
    "    print(\"bought_list:\", bought_list)\n",
    "    print(\"prices_bought:\", prices_bought)\n",
    "\n",
    "\n",
    "    # revenue of relevant recommended items \n",
    "    relevant_revenue = sum(prices_recommended[np.isin(recommended_list, bought_list)])\n",
    "    # revenue of relevant items\n",
    "    total_revenue = sum(prices_bought)\n",
    "    \n",
    "    recall = relevant_revenue / total_revenue\n",
    "    print(\"relevant_revenue:\", relevant_revenue)\n",
    "    print(\"total_revenue:\", total_revenue)\n",
    "    \n",
    "    return recall"
   ],
   "outputs": [],
   "metadata": {}
  },
  {
   "cell_type": "code",
   "execution_count": 103,
   "source": [
    "money_recall_at_k = money_recall_at_k(recommended_list, bought_list, prices_recommended, prices_bought)\n",
    "print(\"Money Recall@k:\", money_recall_at_k)"
   ],
   "outputs": [
    {
     "output_type": "stream",
     "name": "stdout",
     "text": [
      "recommended_list @k: [ 143  156 1134  991   27]\n",
      "prices_recommended @k: [684 559 629 192 835]\n",
      "bought_list: [521, 32, 143, 991]\n",
      "prices_bought: [684 277 754 192]\n",
      "relevant_revenue: 876\n",
      "total_revenue: 1907\n",
      "Money Recall@k: 0.4593602517042475\n"
     ]
    }
   ],
   "metadata": {}
  },
  {
   "cell_type": "markdown",
   "source": [
    "## AP@k\n",
    "AP@k - average precision at k\n",
    "\n",
    "$$AP@k = \\frac{1}{r} \\sum{[recommended_{relevant_i}] * precision@k}$$\n",
    "\n",
    "- r - кол-во релевантный среди рекомендованных\n",
    "- Суммируем по всем релевантным товарам\n",
    "- Зависит от порядка реокмендаций\n"
   ],
   "metadata": {}
  },
  {
   "cell_type": "code",
   "execution_count": 116,
   "source": [
    "\n",
    "def ap_k(recommended_list, bought_list, k=5):\n",
    "    \n",
    "    bought_list = np.array(bought_list)\n",
    "    recommended_list = np.array(recommended_list)\n",
    "    \n",
    "    flags = np.isin(recommended_list, bought_list)\n",
    "    \n",
    "    if sum(flags) == 0:\n",
    "        return 0\n",
    "    \n",
    "    sum_ = 0\n",
    "    for i in range(0, k-1):\n",
    "        if flags[i] == True:\n",
    "            p_k = precision_at_k(recommended_list, bought_list, k=i+1)\n",
    "            sum_ += p_k\n",
    "            \n",
    "    result = sum_ / sum(flags)\n",
    "    \n",
    "    return result\n",
    "\n",
    "    \n",
    "ap_k(recommended_list, bought_list, k=5)\n"
   ],
   "outputs": [
    {
     "output_type": "execute_result",
     "data": {
      "text/plain": [
       "0.75"
      ]
     },
     "metadata": {},
     "execution_count": 116
    }
   ],
   "metadata": {}
  },
  {
   "cell_type": "markdown",
   "source": [
    "### MAP@k\n",
    "\n",
    "MAP@k (Mean Average Precision@k)  \n",
    "Среднее AP@k по всем юзерам\n",
    "- Показывает средневзвешенную точность рекомендаций\n",
    "\n",
    "$$MAP@k = \\frac{1}{|U|} \\sum_u{AP_k}$$\n",
    "  \n",
    "|U| - кол-во юзеров\n"
   ],
   "metadata": {}
  },
  {
   "cell_type": "code",
   "execution_count": 110,
   "source": [
    "def map_k(recommended_list, bought_list, k=5):\n",
    "    \n",
    "    n_users = len(bought_list)\n",
    "    recommended_list = np.array(recommended_list)\n",
    "    sum_ = 0\n",
    "    for i in range(0, k-1):\n",
    "        p_k = precision_at_k(recommended_list, bought_list, k=i+1)\n",
    "        sum_ += p_k\n",
    "            \n",
    "    result = sum_ / n_users\n",
    "    \n",
    "    return result\n",
    "\n",
    "print(map_k(recommended_list, bought_list))"
   ],
   "outputs": [
    {
     "output_type": "stream",
     "name": "stdout",
     "text": [
      "0.5833333333333333\n"
     ]
    }
   ],
   "metadata": {}
  },
  {
   "cell_type": "markdown",
   "source": [
    "### NDCG@k\n",
    "Normalized discounted cumulative gain\n",
    "\n",
    "$$DCG = \\frac{1}{|r|} \\sum_u{\\frac{[bought fact]}{discount(i)}}$$  \n",
    "\n",
    "$discount(i) = 1$ if $i <= 2$,   \n",
    "$discount(i) = log_2(i)$ if $i > 2$\n",
    "\n",
    "\n",
    "<p style='color:red'>(!) Считаем для первых k рекоммендаций   </p> \n",
    "<p style='color:red'>(!) - существуют вариации с другими $discount(i)$</p>  \n",
    "i - ранк рекомендованного товара  \n",
    "|r| - кол-во рекомендованных товаров \n"
   ],
   "metadata": {}
  },
  {
   "cell_type": "markdown",
   "source": [
    "\n",
    "$NDCG = \\frac{DCG}{ideal DCG}$\n",
    "\n",
    "$DCG@5 = \\frac{1}{5}*(1 / 1 + 0 / 2 + 0 / log(3) + 1 / log(4) + 0 / log(5))$  \n",
    "$ideal DCG@5 = \\frac{1}{5}*(1 / 1 + 1 / 2 + 1 / log(3) + 1 / log(4) + 1 / log(5))$  \n",
    "\n",
    "$NDCG = \\frac{DCG}{ideal DCG}$"
   ],
   "metadata": {}
  },
  {
   "cell_type": "code",
   "execution_count": 152,
   "source": [
    "def discount(flag, i):\n",
    "    if i <= 2:\n",
    "        return flag / i\n",
    "    else:\n",
    "        return flag / np.log2(i)\n",
    "\n",
    "\n",
    "def dcg(recommended_list, bought_list, k=5):\n",
    "    bought_list = np.array(bought_list)\n",
    "    if k:\n",
    "        recommended_list = recommended_list[:k]\n",
    "    rec_len = len(recommended_list)\n",
    "\n",
    "    bool_mask = np.isin(recommended_list, bought_list)\n",
    "    flags = bool_mask * 1\n",
    "\n",
    "    sum_ = 0\n",
    "    for i in range(1, rec_len+1):\n",
    "        sum_ += discount(flags[i-1], i)\n",
    "    dcg_score = sum_ / rec_len\n",
    "\n",
    "    return dcg_score\n",
    "\n",
    "\n",
    "def ideal_dcg(rec_len):\n",
    "    flags = np.ones(rec_len)\n",
    "    sum_ = 0\n",
    "    for i in range(1, rec_len+1):\n",
    "        sum_ += discount(flags[i-1], i)\n",
    "    ideal_dcg = sum_ / rec_len\n",
    "\n",
    "    return ideal_dcg\n",
    "\n",
    "\n",
    "def ndcg(recommended_list, bought_list, k=5):\n",
    "    dcg_score = dcg(recommended_list, bought_list, k)\n",
    "\n",
    "    if k:\n",
    "        rec_len = k   \n",
    "    else:\n",
    "        rec_len = len(recommended_list)\n",
    "    \n",
    "    return dcg_score / ideal_dcg(rec_len)\n",
    "\n",
    "\n",
    "print(\"DCG Score =\", dcg(recommended_list, bought_list, k=None))\n",
    "print(\"NDCG Score =\", ndcg(recommended_list, bought_list, k=None))\n",
    "print()\n",
    "print(\"DCG Score@5 =\", dcg(recommended_list, bought_list))\n",
    "print(\"NDCG Score@5 =\", ndcg(recommended_list, bought_list))"
   ],
   "outputs": [
    {
     "output_type": "stream",
     "name": "stdout",
     "text": [
      "DCG Score = 0.15\n",
      "NDCG Score = 0.31549095204264654\n",
      "\n",
      "DCG Score@5 = 0.3\n",
      "NDCG Score@5 = 0.489938890671454\n"
     ]
    }
   ],
   "metadata": {}
  },
  {
   "cell_type": "markdown",
   "source": [
    "### MRR@k\n",
    "Mean Reciprocal Rank\n",
    "\n",
    "- Считаем для первых k рекоммендаций\n",
    "- Найти ранк первого релевантного предсказания $k_u$\n",
    "- Посчитать reciprocal rank = $\\frac{1}{k_u}$\n",
    "\n",
    "$$MRR = mean(\\frac{1}{k_u})$$"
   ],
   "metadata": {
    "id": "T7Y-Jtcdo1i6"
   }
  },
  {
   "cell_type": "code",
   "execution_count": 166,
   "source": [
    "def mean_reciprocal_rank(recommended_list, bought_list, k=5):\n",
    "    ranks = []\n",
    "    bought_list = np.array(bought_list)\n",
    "    recommended_list = np.array(recommended_list)[:k]\n",
    "\n",
    "    for c in bought_list:\n",
    "        if c in recommended_list:\n",
    "            ranks.append(list(recommended_list).index(c)+1)\n",
    "    \n",
    "    reciprocal_ranks = list(map(lambda x: x**(-1), ranks))\n",
    "    mrr = np.mean(reciprocal_ranks)\n",
    "\n",
    "    return mrr\n",
    "\n",
    "mrr = mean_reciprocal_rank(recommended_list, bought_list)\n",
    "print(\"Mean Reciprocal Rank@5 =\", mrr)"
   ],
   "outputs": [
    {
     "output_type": "stream",
     "name": "stdout",
     "text": [
      "Mean Reciprocal Rank@5 = 0.625\n"
     ]
    }
   ],
   "metadata": {}
  }
 ],
 "metadata": {
  "orig_nbformat": 4,
  "language_info": {
   "name": "python",
   "version": "3.8.5",
   "mimetype": "text/x-python",
   "codemirror_mode": {
    "name": "ipython",
    "version": 3
   },
   "pygments_lexer": "ipython3",
   "nbconvert_exporter": "python",
   "file_extension": ".py"
  },
  "kernelspec": {
   "name": "python3",
   "display_name": "Python 3.8.5 64-bit ('base': conda)"
  },
  "interpreter": {
   "hash": "32086f9b7cc52bc2c8629421cf6cba175094c2e18299455caf64f8eb675094c9"
  }
 },
 "nbformat": 4,
 "nbformat_minor": 2
}