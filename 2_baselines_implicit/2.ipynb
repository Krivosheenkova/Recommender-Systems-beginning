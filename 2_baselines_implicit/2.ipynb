{
 "cells": [
  {
   "cell_type": "markdown",
   "source": [
    "# #2"
   ],
   "metadata": {}
  },
  {
   "cell_type": "code",
   "execution_count": 3,
   "source": [
    "import pandas as pd\n",
    "import numpy as np"
   ],
   "outputs": [],
   "metadata": {}
  },
  {
   "cell_type": "code",
   "execution_count": 4,
   "source": [
    "data = pd.read_csv('retail_train.csv')\n",
    "data.head()"
   ],
   "outputs": [
    {
     "output_type": "execute_result",
     "data": {
      "text/html": [
       "<div>\n",
       "<style scoped>\n",
       "    .dataframe tbody tr th:only-of-type {\n",
       "        vertical-align: middle;\n",
       "    }\n",
       "\n",
       "    .dataframe tbody tr th {\n",
       "        vertical-align: top;\n",
       "    }\n",
       "\n",
       "    .dataframe thead th {\n",
       "        text-align: right;\n",
       "    }\n",
       "</style>\n",
       "<table border=\"1\" class=\"dataframe\">\n",
       "  <thead>\n",
       "    <tr style=\"text-align: right;\">\n",
       "      <th></th>\n",
       "      <th>user_id</th>\n",
       "      <th>basket_id</th>\n",
       "      <th>day</th>\n",
       "      <th>item_id</th>\n",
       "      <th>quantity</th>\n",
       "      <th>sales_value</th>\n",
       "      <th>store_id</th>\n",
       "      <th>retail_disc</th>\n",
       "      <th>trans_time</th>\n",
       "      <th>week_no</th>\n",
       "      <th>coupon_disc</th>\n",
       "      <th>coupon_match_disc</th>\n",
       "    </tr>\n",
       "  </thead>\n",
       "  <tbody>\n",
       "    <tr>\n",
       "      <th>0</th>\n",
       "      <td>2375</td>\n",
       "      <td>26984851472</td>\n",
       "      <td>1</td>\n",
       "      <td>1004906</td>\n",
       "      <td>1</td>\n",
       "      <td>1.39</td>\n",
       "      <td>364</td>\n",
       "      <td>-0.60</td>\n",
       "      <td>1631</td>\n",
       "      <td>1</td>\n",
       "      <td>0.0</td>\n",
       "      <td>0.0</td>\n",
       "    </tr>\n",
       "    <tr>\n",
       "      <th>1</th>\n",
       "      <td>2375</td>\n",
       "      <td>26984851472</td>\n",
       "      <td>1</td>\n",
       "      <td>1033142</td>\n",
       "      <td>1</td>\n",
       "      <td>0.82</td>\n",
       "      <td>364</td>\n",
       "      <td>0.00</td>\n",
       "      <td>1631</td>\n",
       "      <td>1</td>\n",
       "      <td>0.0</td>\n",
       "      <td>0.0</td>\n",
       "    </tr>\n",
       "    <tr>\n",
       "      <th>2</th>\n",
       "      <td>2375</td>\n",
       "      <td>26984851472</td>\n",
       "      <td>1</td>\n",
       "      <td>1036325</td>\n",
       "      <td>1</td>\n",
       "      <td>0.99</td>\n",
       "      <td>364</td>\n",
       "      <td>-0.30</td>\n",
       "      <td>1631</td>\n",
       "      <td>1</td>\n",
       "      <td>0.0</td>\n",
       "      <td>0.0</td>\n",
       "    </tr>\n",
       "    <tr>\n",
       "      <th>3</th>\n",
       "      <td>2375</td>\n",
       "      <td>26984851472</td>\n",
       "      <td>1</td>\n",
       "      <td>1082185</td>\n",
       "      <td>1</td>\n",
       "      <td>1.21</td>\n",
       "      <td>364</td>\n",
       "      <td>0.00</td>\n",
       "      <td>1631</td>\n",
       "      <td>1</td>\n",
       "      <td>0.0</td>\n",
       "      <td>0.0</td>\n",
       "    </tr>\n",
       "    <tr>\n",
       "      <th>4</th>\n",
       "      <td>2375</td>\n",
       "      <td>26984851472</td>\n",
       "      <td>1</td>\n",
       "      <td>8160430</td>\n",
       "      <td>1</td>\n",
       "      <td>1.50</td>\n",
       "      <td>364</td>\n",
       "      <td>-0.39</td>\n",
       "      <td>1631</td>\n",
       "      <td>1</td>\n",
       "      <td>0.0</td>\n",
       "      <td>0.0</td>\n",
       "    </tr>\n",
       "  </tbody>\n",
       "</table>\n",
       "</div>"
      ],
      "text/plain": [
       "   user_id    basket_id  day  item_id  quantity  sales_value  store_id  \\\n",
       "0     2375  26984851472    1  1004906         1         1.39       364   \n",
       "1     2375  26984851472    1  1033142         1         0.82       364   \n",
       "2     2375  26984851472    1  1036325         1         0.99       364   \n",
       "3     2375  26984851472    1  1082185         1         1.21       364   \n",
       "4     2375  26984851472    1  8160430         1         1.50       364   \n",
       "\n",
       "   retail_disc  trans_time  week_no  coupon_disc  coupon_match_disc  \n",
       "0        -0.60        1631        1          0.0                0.0  \n",
       "1         0.00        1631        1          0.0                0.0  \n",
       "2        -0.30        1631        1          0.0                0.0  \n",
       "3         0.00        1631        1          0.0                0.0  \n",
       "4        -0.39        1631        1          0.0                0.0  "
      ]
     },
     "metadata": {},
     "execution_count": 4
    }
   ],
   "metadata": {}
  },
  {
   "cell_type": "code",
   "execution_count": 5,
   "source": [
    "users, items, interactions = data.user_id.nunique(), data.item_id.nunique(), data.shape[0]\n",
    "\n",
    "print('# users: ', users)\n",
    "print('# items: ', items)\n",
    "print('# interactions: ', interactions)"
   ],
   "outputs": [
    {
     "output_type": "stream",
     "name": "stdout",
     "text": [
      "# users:  2499\n",
      "# items:  89051\n",
      "# interactions:  2396804\n"
     ]
    }
   ],
   "metadata": {}
  },
  {
   "cell_type": "code",
   "execution_count": 6,
   "source": [
    "popularity = data.groupby('item_id')['sales_value'].sum().reset_index()\n",
    "popularity.sort_values(by='sales_value', ascending=False).head(5)"
   ],
   "outputs": [
    {
     "output_type": "execute_result",
     "data": {
      "text/html": [
       "<div>\n",
       "<style scoped>\n",
       "    .dataframe tbody tr th:only-of-type {\n",
       "        vertical-align: middle;\n",
       "    }\n",
       "\n",
       "    .dataframe tbody tr th {\n",
       "        vertical-align: top;\n",
       "    }\n",
       "\n",
       "    .dataframe thead th {\n",
       "        text-align: right;\n",
       "    }\n",
       "</style>\n",
       "<table border=\"1\" class=\"dataframe\">\n",
       "  <thead>\n",
       "    <tr style=\"text-align: right;\">\n",
       "      <th></th>\n",
       "      <th>item_id</th>\n",
       "      <th>sales_value</th>\n",
       "    </tr>\n",
       "  </thead>\n",
       "  <tbody>\n",
       "    <tr>\n",
       "      <th>56233</th>\n",
       "      <td>6534178</td>\n",
       "      <td>467993.62</td>\n",
       "    </tr>\n",
       "    <tr>\n",
       "      <th>56193</th>\n",
       "      <td>6533889</td>\n",
       "      <td>42645.75</td>\n",
       "    </tr>\n",
       "    <tr>\n",
       "      <th>29195</th>\n",
       "      <td>1029743</td>\n",
       "      <td>37981.91</td>\n",
       "    </tr>\n",
       "    <tr>\n",
       "      <th>56228</th>\n",
       "      <td>6534166</td>\n",
       "      <td>31298.96</td>\n",
       "    </tr>\n",
       "    <tr>\n",
       "      <th>35054</th>\n",
       "      <td>1082185</td>\n",
       "      <td>27291.02</td>\n",
       "    </tr>\n",
       "  </tbody>\n",
       "</table>\n",
       "</div>"
      ],
      "text/plain": [
       "       item_id  sales_value\n",
       "56233  6534178    467993.62\n",
       "56193  6533889     42645.75\n",
       "29195  1029743     37981.91\n",
       "56228  6534166     31298.96\n",
       "35054  1082185     27291.02"
      ]
     },
     "metadata": {},
     "execution_count": 6
    }
   ],
   "metadata": {}
  },
  {
   "cell_type": "code",
   "execution_count": 7,
   "source": [
    "popularity = data.groupby('item_id')['user_id'].nunique().reset_index()\n",
    "popularity.sort_values(by='user_id', ascending=False).head(5)"
   ],
   "outputs": [
    {
     "output_type": "execute_result",
     "data": {
      "text/html": [
       "<div>\n",
       "<style scoped>\n",
       "    .dataframe tbody tr th:only-of-type {\n",
       "        vertical-align: middle;\n",
       "    }\n",
       "\n",
       "    .dataframe tbody tr th {\n",
       "        vertical-align: top;\n",
       "    }\n",
       "\n",
       "    .dataframe thead th {\n",
       "        text-align: right;\n",
       "    }\n",
       "</style>\n",
       "<table border=\"1\" class=\"dataframe\">\n",
       "  <thead>\n",
       "    <tr style=\"text-align: right;\">\n",
       "      <th></th>\n",
       "      <th>item_id</th>\n",
       "      <th>user_id</th>\n",
       "    </tr>\n",
       "  </thead>\n",
       "  <tbody>\n",
       "    <tr>\n",
       "      <th>35054</th>\n",
       "      <td>1082185</td>\n",
       "      <td>2039</td>\n",
       "    </tr>\n",
       "    <tr>\n",
       "      <th>23846</th>\n",
       "      <td>981760</td>\n",
       "      <td>1584</td>\n",
       "    </tr>\n",
       "    <tr>\n",
       "      <th>25333</th>\n",
       "      <td>995242</td>\n",
       "      <td>1421</td>\n",
       "    </tr>\n",
       "    <tr>\n",
       "      <th>29195</th>\n",
       "      <td>1029743</td>\n",
       "      <td>1345</td>\n",
       "    </tr>\n",
       "    <tr>\n",
       "      <th>8056</th>\n",
       "      <td>840361</td>\n",
       "      <td>1319</td>\n",
       "    </tr>\n",
       "  </tbody>\n",
       "</table>\n",
       "</div>"
      ],
      "text/plain": [
       "       item_id  user_id\n",
       "35054  1082185     2039\n",
       "23846   981760     1584\n",
       "25333   995242     1421\n",
       "29195  1029743     1345\n",
       "8056    840361     1319"
      ]
     },
     "metadata": {},
     "execution_count": 7
    }
   ],
   "metadata": {}
  },
  {
   "cell_type": "code",
   "execution_count": 8,
   "source": [
    "popularity = data.groupby('item_id')['basket_id'].nunique().reset_index()\n",
    "popularity.sort_values(by='basket_id', ascending=False).head(5)"
   ],
   "outputs": [
    {
     "output_type": "execute_result",
     "data": {
      "text/html": [
       "<div>\n",
       "<style scoped>\n",
       "    .dataframe tbody tr th:only-of-type {\n",
       "        vertical-align: middle;\n",
       "    }\n",
       "\n",
       "    .dataframe tbody tr th {\n",
       "        vertical-align: top;\n",
       "    }\n",
       "\n",
       "    .dataframe thead th {\n",
       "        text-align: right;\n",
       "    }\n",
       "</style>\n",
       "<table border=\"1\" class=\"dataframe\">\n",
       "  <thead>\n",
       "    <tr style=\"text-align: right;\">\n",
       "      <th></th>\n",
       "      <th>item_id</th>\n",
       "      <th>basket_id</th>\n",
       "    </tr>\n",
       "  </thead>\n",
       "  <tbody>\n",
       "    <tr>\n",
       "      <th>35054</th>\n",
       "      <td>1082185</td>\n",
       "      <td>27362</td>\n",
       "    </tr>\n",
       "    <tr>\n",
       "      <th>56233</th>\n",
       "      <td>6534178</td>\n",
       "      <td>18364</td>\n",
       "    </tr>\n",
       "    <tr>\n",
       "      <th>29195</th>\n",
       "      <td>1029743</td>\n",
       "      <td>13455</td>\n",
       "    </tr>\n",
       "    <tr>\n",
       "      <th>25333</th>\n",
       "      <td>995242</td>\n",
       "      <td>11397</td>\n",
       "    </tr>\n",
       "    <tr>\n",
       "      <th>37719</th>\n",
       "      <td>1106523</td>\n",
       "      <td>9175</td>\n",
       "    </tr>\n",
       "  </tbody>\n",
       "</table>\n",
       "</div>"
      ],
      "text/plain": [
       "       item_id  basket_id\n",
       "35054  1082185      27362\n",
       "56233  6534178      18364\n",
       "29195  1029743      13455\n",
       "25333   995242      11397\n",
       "37719  1106523       9175"
      ]
     },
     "metadata": {},
     "execution_count": 8
    }
   ],
   "metadata": {}
  },
  {
   "cell_type": "code",
   "execution_count": 9,
   "source": [
    "# В рекомендательных системах корректно разбивать \n",
    "# датасет по времени, а не случайно.\n",
    "## ниже берутся последние 3 недели в качестве тестовой выборки.\n",
    "test_size_weeks = 3\n",
    "\n",
    "data_train = data[data['week_no'] < data['week_no'].max() - test_size_weeks]\n",
    "data_test = data[data['week_no'] >= data['week_no'].max() - test_size_weeks]"
   ],
   "outputs": [],
   "metadata": {}
  },
  {
   "cell_type": "code",
   "execution_count": 10,
   "source": [
    "data_train.shape[0], data_test.shape[0]"
   ],
   "outputs": [
    {
     "output_type": "execute_result",
     "data": {
      "text/plain": [
       "(2278490, 118314)"
      ]
     },
     "metadata": {},
     "execution_count": 10
    }
   ],
   "metadata": {}
  },
  {
   "cell_type": "code",
   "execution_count": 11,
   "source": [
    "# датафрейм с покупками юзеров на тестовом датасете \n",
    "result = data_test.groupby('user_id')['item_id'].unique().reset_index()\n",
    "result.columns=['user_id', 'actual']\n",
    "result.head()"
   ],
   "outputs": [
    {
     "output_type": "execute_result",
     "data": {
      "text/html": [
       "<div>\n",
       "<style scoped>\n",
       "    .dataframe tbody tr th:only-of-type {\n",
       "        vertical-align: middle;\n",
       "    }\n",
       "\n",
       "    .dataframe tbody tr th {\n",
       "        vertical-align: top;\n",
       "    }\n",
       "\n",
       "    .dataframe thead th {\n",
       "        text-align: right;\n",
       "    }\n",
       "</style>\n",
       "<table border=\"1\" class=\"dataframe\">\n",
       "  <thead>\n",
       "    <tr style=\"text-align: right;\">\n",
       "      <th></th>\n",
       "      <th>user_id</th>\n",
       "      <th>actual</th>\n",
       "    </tr>\n",
       "  </thead>\n",
       "  <tbody>\n",
       "    <tr>\n",
       "      <th>0</th>\n",
       "      <td>1</td>\n",
       "      <td>[821867, 834484, 856942, 865456, 889248, 90795...</td>\n",
       "    </tr>\n",
       "    <tr>\n",
       "      <th>1</th>\n",
       "      <td>3</td>\n",
       "      <td>[835476, 851057, 872021, 878302, 879948, 90963...</td>\n",
       "    </tr>\n",
       "    <tr>\n",
       "      <th>2</th>\n",
       "      <td>6</td>\n",
       "      <td>[920308, 926804, 946489, 1006718, 1017061, 107...</td>\n",
       "    </tr>\n",
       "    <tr>\n",
       "      <th>3</th>\n",
       "      <td>7</td>\n",
       "      <td>[840386, 889774, 898068, 909714, 929067, 95347...</td>\n",
       "    </tr>\n",
       "    <tr>\n",
       "      <th>4</th>\n",
       "      <td>8</td>\n",
       "      <td>[835098, 872137, 910439, 924610, 992977, 10412...</td>\n",
       "    </tr>\n",
       "  </tbody>\n",
       "</table>\n",
       "</div>"
      ],
      "text/plain": [
       "   user_id                                             actual\n",
       "0        1  [821867, 834484, 856942, 865456, 889248, 90795...\n",
       "1        3  [835476, 851057, 872021, 878302, 879948, 90963...\n",
       "2        6  [920308, 926804, 946489, 1006718, 1017061, 107...\n",
       "3        7  [840386, 889774, 898068, 909714, 929067, 95347...\n",
       "4        8  [835098, 872137, 910439, 924610, 992977, 10412..."
      ]
     },
     "metadata": {},
     "execution_count": 11
    }
   ],
   "metadata": {}
  },
  {
   "cell_type": "code",
   "execution_count": 12,
   "source": [
    "test_users = result.shape[0]\n",
    "new_test_users = len(set(data_test['user_id']) - set(data_train['user_id']))\n",
    "\n",
    "print('В тестовом дата сете {} юзеров'.format(test_users))\n",
    "print('В тестовом дата сете {} новых юзеров'.format(new_test_users))"
   ],
   "outputs": [
    {
     "output_type": "stream",
     "name": "stdout",
     "text": [
      "В тестовом дата сете 2042 юзеров\n",
      "В тестовом дата сете 0 новых юзеров\n"
     ]
    }
   ],
   "metadata": {}
  },
  {
   "cell_type": "code",
   "execution_count": 13,
   "source": [
    "# Random Recommendation\n",
    "\n",
    "def random_recommendation(items, n=5):\n",
    "    \"\"\"Случайные рекоммендации\"\"\"\n",
    "    \n",
    "    items = np.array(items)\n",
    "    recs = np.random.choice(items, size=n, replace=False)\n",
    "    \n",
    "    return recs.tolist()"
   ],
   "outputs": [],
   "metadata": {}
  },
  {
   "cell_type": "code",
   "execution_count": 14,
   "source": [
    "%%time\n",
    "\n",
    "items = data_train.item_id.unique()\n",
    "\n",
    "result['random_recommendation'] = result['user_id'].apply(lambda x: random_recommendation(items, n=5))\n",
    "result['random_recommendation_5k'] = result['user_id'].apply(lambda x: random_recommendation(items, n=5000))\n",
    "\n",
    "result.head()"
   ],
   "outputs": [
    {
     "output_type": "stream",
     "name": "stdout",
     "text": [
      "CPU times: user 16.7 s, sys: 432 ms, total: 17.1 s\n",
      "Wall time: 17.5 s\n"
     ]
    },
    {
     "output_type": "execute_result",
     "data": {
      "text/html": [
       "<div>\n",
       "<style scoped>\n",
       "    .dataframe tbody tr th:only-of-type {\n",
       "        vertical-align: middle;\n",
       "    }\n",
       "\n",
       "    .dataframe tbody tr th {\n",
       "        vertical-align: top;\n",
       "    }\n",
       "\n",
       "    .dataframe thead th {\n",
       "        text-align: right;\n",
       "    }\n",
       "</style>\n",
       "<table border=\"1\" class=\"dataframe\">\n",
       "  <thead>\n",
       "    <tr style=\"text-align: right;\">\n",
       "      <th></th>\n",
       "      <th>user_id</th>\n",
       "      <th>actual</th>\n",
       "      <th>random_recommendation</th>\n",
       "      <th>random_recommendation_5k</th>\n",
       "    </tr>\n",
       "  </thead>\n",
       "  <tbody>\n",
       "    <tr>\n",
       "      <th>0</th>\n",
       "      <td>1</td>\n",
       "      <td>[821867, 834484, 856942, 865456, 889248, 90795...</td>\n",
       "      <td>[5564197, 13417090, 1075514, 6704095, 13876669]</td>\n",
       "      <td>[2638618, 958253, 6022376, 895824, 958121, 101...</td>\n",
       "    </tr>\n",
       "    <tr>\n",
       "      <th>1</th>\n",
       "      <td>3</td>\n",
       "      <td>[835476, 851057, 872021, 878302, 879948, 90963...</td>\n",
       "      <td>[12188159, 15596417, 6039659, 9932353, 641991]</td>\n",
       "      <td>[14025676, 861309, 2253639, 1504616, 16769888,...</td>\n",
       "    </tr>\n",
       "    <tr>\n",
       "      <th>2</th>\n",
       "      <td>6</td>\n",
       "      <td>[920308, 926804, 946489, 1006718, 1017061, 107...</td>\n",
       "      <td>[13671759, 1137847, 329555, 953810, 927806]</td>\n",
       "      <td>[955492, 1209716, 8022241, 831536, 1775844, 55...</td>\n",
       "    </tr>\n",
       "    <tr>\n",
       "      <th>3</th>\n",
       "      <td>7</td>\n",
       "      <td>[840386, 889774, 898068, 909714, 929067, 95347...</td>\n",
       "      <td>[966180, 951650, 1169227, 2068190, 992272]</td>\n",
       "      <td>[5567541, 8181182, 10356542, 1129728, 930603, ...</td>\n",
       "    </tr>\n",
       "    <tr>\n",
       "      <th>4</th>\n",
       "      <td>8</td>\n",
       "      <td>[835098, 872137, 910439, 924610, 992977, 10412...</td>\n",
       "      <td>[858302, 945360, 904362, 903738, 1071632]</td>\n",
       "      <td>[849325, 1203632, 947635, 1018679, 1094919, 71...</td>\n",
       "    </tr>\n",
       "  </tbody>\n",
       "</table>\n",
       "</div>"
      ],
      "text/plain": [
       "   user_id                                             actual  \\\n",
       "0        1  [821867, 834484, 856942, 865456, 889248, 90795...   \n",
       "1        3  [835476, 851057, 872021, 878302, 879948, 90963...   \n",
       "2        6  [920308, 926804, 946489, 1006718, 1017061, 107...   \n",
       "3        7  [840386, 889774, 898068, 909714, 929067, 95347...   \n",
       "4        8  [835098, 872137, 910439, 924610, 992977, 10412...   \n",
       "\n",
       "                             random_recommendation  \\\n",
       "0  [5564197, 13417090, 1075514, 6704095, 13876669]   \n",
       "1   [12188159, 15596417, 6039659, 9932353, 641991]   \n",
       "2      [13671759, 1137847, 329555, 953810, 927806]   \n",
       "3       [966180, 951650, 1169227, 2068190, 992272]   \n",
       "4        [858302, 945360, 904362, 903738, 1071632]   \n",
       "\n",
       "                            random_recommendation_5k  \n",
       "0  [2638618, 958253, 6022376, 895824, 958121, 101...  \n",
       "1  [14025676, 861309, 2253639, 1504616, 16769888,...  \n",
       "2  [955492, 1209716, 8022241, 831536, 1775844, 55...  \n",
       "3  [5567541, 8181182, 10356542, 1129728, 930603, ...  \n",
       "4  [849325, 1203632, 947635, 1018679, 1094919, 71...  "
      ]
     },
     "metadata": {},
     "execution_count": 14
    }
   ],
   "metadata": {}
  },
  {
   "cell_type": "code",
   "execution_count": 15,
   "source": [
    "# TopPop\n",
    "\n",
    "def popularity_recommendation(data, n=5):\n",
    "    \"\"\"Топ-n популярных товаров\"\"\"\n",
    "    popular = data.groupby('item_id')['sales_value'].sum().reset_index()\n",
    "    popular.sort_values('sales_value', ascending=False, inplace=True)\n",
    "\n",
    "    recs = popular.head(n).item_id\n",
    "    return recs.tolist()"
   ],
   "outputs": [],
   "metadata": {}
  },
  {
   "cell_type": "code",
   "execution_count": 16,
   "source": [
    "%%time\n",
    "\n",
    "popular_recs = popularity_recommendation(data_train)\n",
    "\n",
    "result['popular_recommendation'] = result['user_id'].apply(lambda x: popular_recs)\n",
    "result['popular_recommendation_5k'] = result['user_id'].apply(lambda x: popularity_recommendation(data_train, n=5000))\n",
    "\n",
    "result.head(3)"
   ],
   "outputs": [
    {
     "output_type": "stream",
     "name": "stdout",
     "text": [
      "CPU times: user 9min 56s, sys: 1min 53s, total: 11min 49s\n",
      "Wall time: 12min 1s\n"
     ]
    },
    {
     "output_type": "execute_result",
     "data": {
      "text/html": [
       "<div>\n",
       "<style scoped>\n",
       "    .dataframe tbody tr th:only-of-type {\n",
       "        vertical-align: middle;\n",
       "    }\n",
       "\n",
       "    .dataframe tbody tr th {\n",
       "        vertical-align: top;\n",
       "    }\n",
       "\n",
       "    .dataframe thead th {\n",
       "        text-align: right;\n",
       "    }\n",
       "</style>\n",
       "<table border=\"1\" class=\"dataframe\">\n",
       "  <thead>\n",
       "    <tr style=\"text-align: right;\">\n",
       "      <th></th>\n",
       "      <th>user_id</th>\n",
       "      <th>actual</th>\n",
       "      <th>random_recommendation</th>\n",
       "      <th>random_recommendation_5k</th>\n",
       "      <th>popular_recommendation</th>\n",
       "      <th>popular_recommendation_5k</th>\n",
       "    </tr>\n",
       "  </thead>\n",
       "  <tbody>\n",
       "    <tr>\n",
       "      <th>0</th>\n",
       "      <td>1</td>\n",
       "      <td>[821867, 834484, 856942, 865456, 889248, 90795...</td>\n",
       "      <td>[5564197, 13417090, 1075514, 6704095, 13876669]</td>\n",
       "      <td>[2638618, 958253, 6022376, 895824, 958121, 101...</td>\n",
       "      <td>[6534178, 6533889, 1029743, 6534166, 1082185]</td>\n",
       "      <td>[6534178, 6533889, 1029743, 6534166, 1082185, ...</td>\n",
       "    </tr>\n",
       "    <tr>\n",
       "      <th>1</th>\n",
       "      <td>3</td>\n",
       "      <td>[835476, 851057, 872021, 878302, 879948, 90963...</td>\n",
       "      <td>[12188159, 15596417, 6039659, 9932353, 641991]</td>\n",
       "      <td>[14025676, 861309, 2253639, 1504616, 16769888,...</td>\n",
       "      <td>[6534178, 6533889, 1029743, 6534166, 1082185]</td>\n",
       "      <td>[6534178, 6533889, 1029743, 6534166, 1082185, ...</td>\n",
       "    </tr>\n",
       "    <tr>\n",
       "      <th>2</th>\n",
       "      <td>6</td>\n",
       "      <td>[920308, 926804, 946489, 1006718, 1017061, 107...</td>\n",
       "      <td>[13671759, 1137847, 329555, 953810, 927806]</td>\n",
       "      <td>[955492, 1209716, 8022241, 831536, 1775844, 55...</td>\n",
       "      <td>[6534178, 6533889, 1029743, 6534166, 1082185]</td>\n",
       "      <td>[6534178, 6533889, 1029743, 6534166, 1082185, ...</td>\n",
       "    </tr>\n",
       "  </tbody>\n",
       "</table>\n",
       "</div>"
      ],
      "text/plain": [
       "   user_id                                             actual  \\\n",
       "0        1  [821867, 834484, 856942, 865456, 889248, 90795...   \n",
       "1        3  [835476, 851057, 872021, 878302, 879948, 90963...   \n",
       "2        6  [920308, 926804, 946489, 1006718, 1017061, 107...   \n",
       "\n",
       "                             random_recommendation  \\\n",
       "0  [5564197, 13417090, 1075514, 6704095, 13876669]   \n",
       "1   [12188159, 15596417, 6039659, 9932353, 641991]   \n",
       "2      [13671759, 1137847, 329555, 953810, 927806]   \n",
       "\n",
       "                            random_recommendation_5k  \\\n",
       "0  [2638618, 958253, 6022376, 895824, 958121, 101...   \n",
       "1  [14025676, 861309, 2253639, 1504616, 16769888,...   \n",
       "2  [955492, 1209716, 8022241, 831536, 1775844, 55...   \n",
       "\n",
       "                          popular_recommendation  \\\n",
       "0  [6534178, 6533889, 1029743, 6534166, 1082185]   \n",
       "1  [6534178, 6533889, 1029743, 6534166, 1082185]   \n",
       "2  [6534178, 6533889, 1029743, 6534166, 1082185]   \n",
       "\n",
       "                           popular_recommendation_5k  \n",
       "0  [6534178, 6533889, 1029743, 6534166, 1082185, ...  \n",
       "1  [6534178, 6533889, 1029743, 6534166, 1082185, ...  \n",
       "2  [6534178, 6533889, 1029743, 6534166, 1082185, ...  "
      ]
     },
     "metadata": {},
     "execution_count": 16
    }
   ],
   "metadata": {}
  },
  {
   "cell_type": "code",
   "execution_count": 17,
   "source": [
    "# Random Weighted Recommendation\n",
    "\n",
    "def weighted_random_recommendation(items_weights, n=5):\n",
    "    \"\"\"Случайные взвешенные рекоммендации\n",
    "    Input\n",
    "    -----\n",
    "    items_weights: pd.DataFrame\n",
    "        Датафрейм со столбцами item_id, weight. Сумма weight по всем товарам = 1\n",
    "    \"\"\"\n",
    "    items = items_weights.item_id\n",
    "    weights = np.abs(items_weights.weight)\n",
    "    recs = np.random.choice(items, p=weights, size=n, replace=False)\n",
    "    \n",
    "    return recs.tolist()"
   ],
   "outputs": [],
   "metadata": {}
  },
  {
   "cell_type": "code",
   "execution_count": 18,
   "source": [
    "popular = data_train.groupby('item_id')['sales_value'].sum().reset_index()\n",
    "print(round(popular.loc[popular.sales_value < 1].shape[0] / popular.shape[0] * 100), \"% of observations have sales_value less than 1\")"
   ],
   "outputs": [
    {
     "output_type": "stream",
     "name": "stdout",
     "text": [
      "4 % of observations have sales_value less than 1\n"
     ]
    }
   ],
   "metadata": {}
  },
  {
   "cell_type": "code",
   "execution_count": 19,
   "source": [
    "%%time\n",
    "\n",
    "popular.sort_values('sales_value', ascending=False, inplace=True)\n",
    "popular = popular.loc[popular['sales_value'] > 1]\n",
    "\n",
    "p = popular['sales_value'].apply(lambda x: np.log(x) / popular.shape[0])\n",
    "\n",
    "p /= p.sum()\n",
    "sum(p)\n",
    "popular['weight'] = p\n",
    "items_weights = popular[['item_id', 'weight']]\n",
    "\n",
    "result['weighted_random_recommendation'] = result['user_id'].apply(lambda x: weighted_random_recommendation(items_weights))\n",
    "result['weighted_random_recommendation_5k'] = result['user_id'].apply(lambda x: weighted_random_recommendation(items_weights, n=5000))"
   ],
   "outputs": [
    {
     "output_type": "stream",
     "name": "stdout",
     "text": [
      "CPU times: user 19.1 s, sys: 376 ms, total: 19.4 s\n",
      "Wall time: 20.1 s\n"
     ]
    }
   ],
   "metadata": {}
  },
  {
   "cell_type": "code",
   "execution_count": 20,
   "source": [
    "result.head(3)"
   ],
   "outputs": [
    {
     "output_type": "execute_result",
     "data": {
      "text/html": [
       "<div>\n",
       "<style scoped>\n",
       "    .dataframe tbody tr th:only-of-type {\n",
       "        vertical-align: middle;\n",
       "    }\n",
       "\n",
       "    .dataframe tbody tr th {\n",
       "        vertical-align: top;\n",
       "    }\n",
       "\n",
       "    .dataframe thead th {\n",
       "        text-align: right;\n",
       "    }\n",
       "</style>\n",
       "<table border=\"1\" class=\"dataframe\">\n",
       "  <thead>\n",
       "    <tr style=\"text-align: right;\">\n",
       "      <th></th>\n",
       "      <th>user_id</th>\n",
       "      <th>actual</th>\n",
       "      <th>random_recommendation</th>\n",
       "      <th>random_recommendation_5k</th>\n",
       "      <th>popular_recommendation</th>\n",
       "      <th>popular_recommendation_5k</th>\n",
       "      <th>weighted_random_recommendation</th>\n",
       "      <th>weighted_random_recommendation_5k</th>\n",
       "    </tr>\n",
       "  </thead>\n",
       "  <tbody>\n",
       "    <tr>\n",
       "      <th>0</th>\n",
       "      <td>1</td>\n",
       "      <td>[821867, 834484, 856942, 865456, 889248, 90795...</td>\n",
       "      <td>[5564197, 13417090, 1075514, 6704095, 13876669]</td>\n",
       "      <td>[2638618, 958253, 6022376, 895824, 958121, 101...</td>\n",
       "      <td>[6534178, 6533889, 1029743, 6534166, 1082185]</td>\n",
       "      <td>[6534178, 6533889, 1029743, 6534166, 1082185, ...</td>\n",
       "      <td>[960807, 842707, 1138816, 1006488, 985866]</td>\n",
       "      <td>[879977, 8181189, 906854, 830628, 988421, 9883...</td>\n",
       "    </tr>\n",
       "    <tr>\n",
       "      <th>1</th>\n",
       "      <td>3</td>\n",
       "      <td>[835476, 851057, 872021, 878302, 879948, 90963...</td>\n",
       "      <td>[12188159, 15596417, 6039659, 9932353, 641991]</td>\n",
       "      <td>[14025676, 861309, 2253639, 1504616, 16769888,...</td>\n",
       "      <td>[6534178, 6533889, 1029743, 6534166, 1082185]</td>\n",
       "      <td>[6534178, 6533889, 1029743, 6534166, 1082185, ...</td>\n",
       "      <td>[13910350, 1080331, 1097707, 932166, 1792709]</td>\n",
       "      <td>[7168289, 1038462, 1002940, 1125681, 865216, 9...</td>\n",
       "    </tr>\n",
       "    <tr>\n",
       "      <th>2</th>\n",
       "      <td>6</td>\n",
       "      <td>[920308, 926804, 946489, 1006718, 1017061, 107...</td>\n",
       "      <td>[13671759, 1137847, 329555, 953810, 927806]</td>\n",
       "      <td>[955492, 1209716, 8022241, 831536, 1775844, 55...</td>\n",
       "      <td>[6534178, 6533889, 1029743, 6534166, 1082185]</td>\n",
       "      <td>[6534178, 6533889, 1029743, 6534166, 1082185, ...</td>\n",
       "      <td>[938946, 1025682, 1025468, 7025326, 9526564]</td>\n",
       "      <td>[1072524, 9526228, 1008133, 7151824, 12171620,...</td>\n",
       "    </tr>\n",
       "  </tbody>\n",
       "</table>\n",
       "</div>"
      ],
      "text/plain": [
       "   user_id                                             actual  \\\n",
       "0        1  [821867, 834484, 856942, 865456, 889248, 90795...   \n",
       "1        3  [835476, 851057, 872021, 878302, 879948, 90963...   \n",
       "2        6  [920308, 926804, 946489, 1006718, 1017061, 107...   \n",
       "\n",
       "                             random_recommendation  \\\n",
       "0  [5564197, 13417090, 1075514, 6704095, 13876669]   \n",
       "1   [12188159, 15596417, 6039659, 9932353, 641991]   \n",
       "2      [13671759, 1137847, 329555, 953810, 927806]   \n",
       "\n",
       "                            random_recommendation_5k  \\\n",
       "0  [2638618, 958253, 6022376, 895824, 958121, 101...   \n",
       "1  [14025676, 861309, 2253639, 1504616, 16769888,...   \n",
       "2  [955492, 1209716, 8022241, 831536, 1775844, 55...   \n",
       "\n",
       "                          popular_recommendation  \\\n",
       "0  [6534178, 6533889, 1029743, 6534166, 1082185]   \n",
       "1  [6534178, 6533889, 1029743, 6534166, 1082185]   \n",
       "2  [6534178, 6533889, 1029743, 6534166, 1082185]   \n",
       "\n",
       "                           popular_recommendation_5k  \\\n",
       "0  [6534178, 6533889, 1029743, 6534166, 1082185, ...   \n",
       "1  [6534178, 6533889, 1029743, 6534166, 1082185, ...   \n",
       "2  [6534178, 6533889, 1029743, 6534166, 1082185, ...   \n",
       "\n",
       "                  weighted_random_recommendation  \\\n",
       "0     [960807, 842707, 1138816, 1006488, 985866]   \n",
       "1  [13910350, 1080331, 1097707, 932166, 1792709]   \n",
       "2   [938946, 1025682, 1025468, 7025326, 9526564]   \n",
       "\n",
       "                   weighted_random_recommendation_5k  \n",
       "0  [879977, 8181189, 906854, 830628, 988421, 9883...  \n",
       "1  [7168289, 1038462, 1002940, 1125681, 865216, 9...  \n",
       "2  [1072524, 9526228, 1008133, 7151824, 12171620,...  "
      ]
     },
     "metadata": {},
     "execution_count": 20
    }
   ],
   "metadata": {}
  },
  {
   "cell_type": "code",
   "execution_count": 21,
   "source": [
    "def precision_at_k(recommended_list, bought_list, k=5):\n",
    "    \n",
    "    bought_list = np.array(bought_list)\n",
    "    recommended_list = np.array(recommended_list)\n",
    "    \n",
    "    bought_list = bought_list  # Тут нет [:k] !!\n",
    "    recommended_list = recommended_list[:k]\n",
    "    \n",
    "    flags = np.isin(bought_list, recommended_list)\n",
    "    \n",
    "    precision = flags.sum() / len(recommended_list)\n",
    "    \n",
    "    \n",
    "    return precision\n",
    "\n",
    "new_cols = result.columns[2:]\n",
    "for col in new_cols:\n",
    "    precision = result.apply(lambda row: precision_at_k(row[col], row['actual']), axis=1).mean()\n",
    "    print(f'Precision@5 {col}: {round(precision, 4)*100}%')"
   ],
   "outputs": [
    {
     "output_type": "stream",
     "name": "stdout",
     "text": [
      "Precision@5 random_recommendation: 0.05%\n",
      "Precision@5 random_recommendation_5k: 0.04%\n",
      "Precision@5 popular_recommendation: 15.52%\n",
      "Precision@5 popular_recommendation_5k: 15.52%\n",
      "Precision@5 weighted_random_recommendation: 0.08%\n",
      "Precision@5 weighted_random_recommendation_5k: 0.06999999999999999%\n"
     ]
    }
   ],
   "metadata": {}
  },
  {
   "cell_type": "markdown",
   "source": [
    "Вывод: качество предсказаний бейзлайнов не улучшается (и может ухудшиться) с семплированием наблюдений (н-р, топ 5000, как в коде выше). "
   ],
   "metadata": {}
  }
 ],
 "metadata": {
  "orig_nbformat": 4,
  "language_info": {
   "name": "python",
   "version": "3.8.5",
   "mimetype": "text/x-python",
   "codemirror_mode": {
    "name": "ipython",
    "version": 3
   },
   "pygments_lexer": "ipython3",
   "nbconvert_exporter": "python",
   "file_extension": ".py"
  },
  "kernelspec": {
   "name": "python3",
   "display_name": "Python 3.8.5 64-bit ('base': conda)"
  },
  "interpreter": {
   "hash": "32086f9b7cc52bc2c8629421cf6cba175094c2e18299455caf64f8eb675094c9"
  }
 },
 "nbformat": 4,
 "nbformat_minor": 2
}