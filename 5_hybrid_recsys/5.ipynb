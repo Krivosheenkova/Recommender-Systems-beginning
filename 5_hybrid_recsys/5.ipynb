{
 "cells": [
  {
   "cell_type": "code",
   "execution_count": 170,
   "metadata": {},
   "outputs": [
    {
     "name": "stdout",
     "output_type": "stream",
     "text": [
      "The autoreload extension is already loaded. To reload it, use:\n",
      "  %reload_ext autoreload\n"
     ]
    }
   ],
   "source": [
    "%load_ext autoreload\n",
    "%autoreload 2"
   ]
  },
  {
   "cell_type": "markdown",
   "metadata": {},
   "source": [
    "# #5 Ranking and Hybrid Recommender Systems"
   ]
  },
  {
   "cell_type": "markdown",
   "metadata": {},
   "source": [
    "[Построение длинного и короткого портфеля акций с помощью\n",
    "нового алгоритма listwise learn-to-ranking](https://arxiv.org/pdf/2104.12484.pdf)_(pdf)_\n",
    "\n",
    "[Recommender system using Bayesian personalized ranking](https://towardsdatascience.com/recommender-system-using-bayesian-personalized-ranking-d30e98bba0b9)_(towardsdatascience)_\n",
    "\n",
    "[Intro to WARP Loss, automatic differentiation and PyTorch](https://medium.com/@gabrieltseng/intro-to-warp-loss-automatic-differentiation-and-pytorch-b6aa5083187a)_(towardsdatascience)_"
   ]
  },
  {
   "cell_type": "code",
   "execution_count": 1,
   "metadata": {},
   "outputs": [
    {
     "name": "stdout",
     "output_type": "stream",
     "text": [
      "Done\n"
     ]
    }
   ],
   "source": [
    "import os, sys\n",
    "import pandas as pd\n",
    "import numpy as np\n",
    "%matplotlib inline\n",
    "\n",
    "# Для работы с матрицами\n",
    "from scipy.sparse import csr_matrix, coo_matrix\n",
    "\n",
    "from lightfm import LightFM\n",
    "from lightfm.evaluation import precision_at_k\n",
    "\n",
    "\n",
    "module_path = os.path.abspath(os.path.join(os.pardir))\n",
    "if module_path not in sys.path:\n",
    "    sys.path.append(module_path)\n",
    "    \n",
    "from src.utils import prefilter_items\n",
    "print('Done')"
   ]
  },
  {
   "cell_type": "code",
   "execution_count": 3,
   "metadata": {},
   "outputs": [],
   "source": [
    "data = pd.read_csv('../data/retail_train.csv')\n",
    "\n",
    "item_features = pd.read_csv('../features_data/product.csv')\n",
    "user_features = pd.read_csv('../features_data/hh_demographic.csv')"
   ]
  },
  {
   "cell_type": "code",
   "execution_count": 4,
   "metadata": {},
   "outputs": [
    {
     "data": {
      "text/html": [
       "<div>\n",
       "<style scoped>\n",
       "    .dataframe tbody tr th:only-of-type {\n",
       "        vertical-align: middle;\n",
       "    }\n",
       "\n",
       "    .dataframe tbody tr th {\n",
       "        vertical-align: top;\n",
       "    }\n",
       "\n",
       "    .dataframe thead th {\n",
       "        text-align: right;\n",
       "    }\n",
       "</style>\n",
       "<table border=\"1\" class=\"dataframe\">\n",
       "  <thead>\n",
       "    <tr style=\"text-align: right;\">\n",
       "      <th></th>\n",
       "      <th>user_id</th>\n",
       "      <th>basket_id</th>\n",
       "      <th>day</th>\n",
       "      <th>item_id</th>\n",
       "      <th>quantity</th>\n",
       "      <th>sales_value</th>\n",
       "      <th>store_id</th>\n",
       "      <th>retail_disc</th>\n",
       "      <th>trans_time</th>\n",
       "      <th>week_no</th>\n",
       "      <th>coupon_disc</th>\n",
       "      <th>coupon_match_disc</th>\n",
       "    </tr>\n",
       "  </thead>\n",
       "  <tbody>\n",
       "    <tr>\n",
       "      <th>0</th>\n",
       "      <td>2375</td>\n",
       "      <td>26984851472</td>\n",
       "      <td>1</td>\n",
       "      <td>1004906</td>\n",
       "      <td>1</td>\n",
       "      <td>1.39</td>\n",
       "      <td>364</td>\n",
       "      <td>-0.6</td>\n",
       "      <td>1631</td>\n",
       "      <td>1</td>\n",
       "      <td>0.0</td>\n",
       "      <td>0.0</td>\n",
       "    </tr>\n",
       "    <tr>\n",
       "      <th>1</th>\n",
       "      <td>2375</td>\n",
       "      <td>26984851472</td>\n",
       "      <td>1</td>\n",
       "      <td>1033142</td>\n",
       "      <td>1</td>\n",
       "      <td>0.82</td>\n",
       "      <td>364</td>\n",
       "      <td>0.0</td>\n",
       "      <td>1631</td>\n",
       "      <td>1</td>\n",
       "      <td>0.0</td>\n",
       "      <td>0.0</td>\n",
       "    </tr>\n",
       "  </tbody>\n",
       "</table>\n",
       "</div>"
      ],
      "text/plain": [
       "   user_id    basket_id  day  item_id  quantity  sales_value  store_id  \\\n",
       "0     2375  26984851472    1  1004906         1         1.39       364   \n",
       "1     2375  26984851472    1  1033142         1         0.82       364   \n",
       "\n",
       "   retail_disc  trans_time  week_no  coupon_disc  coupon_match_disc  \n",
       "0         -0.6        1631        1          0.0                0.0  \n",
       "1          0.0        1631        1          0.0                0.0  "
      ]
     },
     "execution_count": 4,
     "metadata": {},
     "output_type": "execute_result"
    }
   ],
   "source": [
    "# column processing\n",
    "item_features.columns = [col.lower() for col in item_features.columns]\n",
    "user_features.columns = [col.lower() for col in user_features.columns]\n",
    "\n",
    "item_features.rename(columns={'product_id': 'item_id'}, inplace=True)\n",
    "user_features.rename(columns={'household_key': 'user_id'}, inplace=True)\n",
    "\n",
    "# train test split\n",
    "test_size_weeks = 3\n",
    "\n",
    "data_train = data[data['week_no'] < data['week_no'].max() - test_size_weeks]\n",
    "data_test = data[data['week_no'] >= data['week_no'].max() - test_size_weeks]\n",
    "\n",
    "data_train.head(2)"
   ]
  },
  {
   "cell_type": "code",
   "execution_count": 5,
   "metadata": {},
   "outputs": [
    {
     "name": "stdout",
     "output_type": "stream",
     "text": [
      "=================================Train Sample==================================\n",
      "== Starting prefilter info ==\n",
      "shape: (2278490, 12)\n",
      "# users: 2499\n",
      "# items: 86865\n",
      "Sparsity: 1.050%\n",
      "== Ending prefilter info ==\n",
      "shape: (641574, 13)\n",
      "# users: 2474\n",
      "# items: 5000\n",
      "Sparsity: 5.187%\n",
      "\u001b[1mnew_columns:\u001b[0m {'price'}\n"
     ]
    }
   ],
   "source": [
    "# prefilter data\n",
    "print('{:=^79}'.format('Train Sample'))\n",
    "data_train_filtered = prefilter_items(data_train, take_n_popular=5000, item_features=item_features)\n",
    "\n",
    "\n",
    "# prepare CSR train data\n",
    "user_item_matrix = pd.pivot_table(data_train_filtered, \n",
    "                                  index='user_id', columns='item_id', \n",
    "                                  values='quantity', \n",
    "                                  aggfunc='count', \n",
    "                                  fill_value=0\n",
    "                                 ).astype(float) \n",
    "sparse_user_item = csr_matrix(user_item_matrix).tocsr()\n",
    "\n",
    "# prepare CSR test data\n",
    "data_test = data_test[data_test['item_id'].isin(data_train['item_id'].unique())]\n",
    "test_user_item_matrix = pd.pivot_table(data_test, \n",
    "                                  index='user_id', columns='item_id', \n",
    "                                  values='quantity',\n",
    "                                  aggfunc='count', \n",
    "                                  fill_value=0\n",
    "                                 )\n",
    "test_user_item_matrix = test_user_item_matrix.astype(float)"
   ]
  },
  {
   "cell_type": "code",
   "execution_count": 6,
   "metadata": {},
   "outputs": [],
   "source": [
    "# prepare dicts\n",
    "userids = np.union1d(user_item_matrix.index.values, test_user_item_matrix.index.values)\n",
    "itemids = np.union1d(user_item_matrix.columns.values, test_user_item_matrix.columns.values)\n",
    "\n",
    "matrix_userids = np.arange(len(userids))\n",
    "matrix_itemids = np.arange(len(itemids))\n",
    "\n",
    "id_to_itemid = dict(zip(matrix_itemids, itemids))\n",
    "id_to_userid = dict(zip(matrix_userids, userids))\n",
    "\n",
    "itemid_to_id = dict(zip(itemids, matrix_itemids))\n",
    "userid_to_id = dict(zip(userids, matrix_userids))"
   ]
  },
  {
   "cell_type": "code",
   "execution_count": 7,
   "metadata": {},
   "outputs": [],
   "source": [
    "# prepare user/items features\n",
    "user_feat = pd.DataFrame(user_item_matrix.index)\n",
    "user_feat = user_feat.merge(user_features, on='user_id', how='left')\n",
    "user_feat.set_index('user_id', inplace=True)\n",
    "\n",
    "item_feat = pd.DataFrame(user_item_matrix.columns)\n",
    "item_feat = item_feat.merge(item_features, on='item_id', how='left')\n",
    "item_feat.set_index('item_id', inplace=True)\n",
    "\n",
    "\n",
    "# encoding features\n",
    "user_feat_lightfm = pd.get_dummies(user_feat, columns=user_feat.columns.tolist())\n",
    "item_feat_lightfm = pd.get_dummies(item_feat, columns=item_feat.columns.tolist())"
   ]
  },
  {
   "cell_type": "markdown",
   "metadata": {},
   "source": [
    "## *Grid Search with `hyperopt`*"
   ]
  },
  {
   "cell_type": "code",
   "execution_count": 182,
   "metadata": {},
   "outputs": [],
   "source": [
    "# %pip install hyperopt"
   ]
  },
  {
   "cell_type": "code",
   "execution_count": 178,
   "metadata": {},
   "outputs": [],
   "source": [
    "def evaluate_model(model, filtered_data, user_features, item_features) -> float:\n",
    "    user_item_matrix = pd.pivot_table(\n",
    "        filtered_data, \n",
    "        index='user_id', columns='item_id', \n",
    "        values='price',\n",
    "        aggfunc='sum', \n",
    "        fill_value=0\n",
    "    ).astype(float)\n",
    "    sparse_user_item = csr_matrix(user_item_matrix).tocsr()\n",
    "\n",
    "    user_feat = pd.DataFrame(user_item_matrix.index)\n",
    "    user_feat = user_feat.merge(user_features, on='user_id', how='left')\n",
    "    user_feat.set_index('user_id', inplace=True)\n",
    "    item_feat = pd.DataFrame(user_item_matrix.columns)\n",
    "    item_feat = item_feat.merge(item_features, on='item_id', how='left')\n",
    "    item_feat.set_index('item_id', inplace=True)\n",
    "\n",
    "    user_feat_lightfm = pd.get_dummies(user_feat, columns=user_feat.columns.tolist())\n",
    "    item_feat_lightfm = pd.get_dummies(item_feat, columns=item_feat.columns.tolist())\n",
    "\n",
    "    model.fit(\n",
    "          (sparse_user_item > 0) * 1,  # user-item matrix из 0 и 1\n",
    "          sample_weight=coo_matrix(user_item_matrix),\n",
    "          user_features=csr_matrix(user_feat_lightfm.values).tocsr(),\n",
    "          item_features=csr_matrix(item_feat_lightfm.values).tocsr(),\n",
    "          epochs=15, \n",
    "          num_threads=4,\n",
    "          verbose=False\n",
    "          )\n",
    "\n",
    "    p = precision_at_k(\n",
    "        model, \n",
    "        sparse_user_item, \n",
    "        user_features=csr_matrix(user_feat_lightfm.values).tocsr(),\n",
    "        item_features=csr_matrix(item_feat_lightfm.values).tocsr(),\n",
    "        k=5).mean()\n",
    "\n",
    "    return p, model"
   ]
  },
  {
   "cell_type": "code",
   "execution_count": 179,
   "metadata": {},
   "outputs": [],
   "source": [
    "from hyperopt import hp, Trials, fmin, tpe, STATUS_OK\n",
    "from math import e\n",
    "\n",
    "def hyperopt_obj(params, data):\n",
    "    t = params['type']\n",
    "    del params['type']\n",
    "    if t == 'lightfm':\n",
    "        clf = LightFM(**params)\n",
    "    else:\n",
    "        return 0\n",
    "    \n",
    "    return evaluate_model(model=clf, \n",
    "                          filtered_data=data,\n",
    "                          user_features=user_features,\n",
    "                          item_features=item_features)"
   ]
  },
  {
   "cell_type": "code",
   "execution_count": 1,
   "metadata": {},
   "outputs": [],
   "source": [
    "space = hp.choice('task', \n",
    "    [\n",
    "        {'type': 'lightfm',\n",
    "         'loss': hp.choice('loss', ['warp', 'bpr']),\n",
    "         'no_components': hp.choice('n_components', range(40, 150)),\n",
    "         'learning_rate': hp.choice('learning_rate', [.005, .01, .1, .15,]),\n",
    "         'max_sampled': hp.choice('max_sampled', range(5, 16)),\n",
    "         'epsilon': hp.uniform('epsilon', 1e-6, 1e-2),\n",
    "         'item_alpha': hp.uniform('item_alpha', 1e-3, 0.1),\n",
    "         'user_alpha': hp.uniform('user_alpha', 1e-3, 0.1),\n",
    "         'random_state': hp.choice('random_state', [111])}\n",
    "    ])\n",
    "\n",
    "count = 0\n",
    "best = 0\n",
    "def f(params):\n",
    "    global best, count\n",
    "    best_acc_delta = 10e3 # I want to get minimal train and test accuracy delta \n",
    "    count += 1\n",
    "    acc_train, model = hyperopt_obj(params.copy(), data_train_filtered)\n",
    "    acc_test = precision_at_k(model, csr_matrix(test_user_item_matrix).tocsr(), \n",
    "                                 user_features=csr_matrix(user_feat_lightfm.values).tocsr(),\n",
    "                                 item_features=csr_matrix(item_feat_lightfm.values).tocsr(),\n",
    "                                k=5).mean()\n",
    "    acc_delta = abs(acc_train - acc_test)\n",
    "    if acc_delta < best_acc_delta:\n",
    "        print('{:=^79}'.format(f'new best! train: {acc_train} test: {acc_test}'))\n",
    "        print('using: {}'.format(model.get_params()))\n",
    "        best_acc_delta = acc_delta\n",
    "        best = acc_test\n",
    "\n",
    "    return {'loss': -acc_test, 'status': STATUS_OK}\n",
    "\n",
    "\n",
    "trials = Trials()\n",
    "best = fmin(f, space, algo=tpe.suggest, max_evals=200, trials=trials)\n",
    "print(f'best:\\n{best}')\n",
    "\n",
    "# output in output_1.txt"
   ]
  },
  {
   "cell_type": "code",
   "execution_count": 183,
   "metadata": {},
   "outputs": [],
   "source": [
    "best = {'loss': 'bpr', \n",
    "        'no_components': 75, \n",
    "        'learning_rate': 0.1,\n",
    "        'epsilon': 0.00037744557464881477, \n",
    "        'max_sampled': 5, \n",
    "        'item_alpha': 0.010879605896560014, \n",
    "        'user_alpha': 0.03401434201826126, \n",
    "        'random_state': 0}"
   ]
  },
  {
   "cell_type": "markdown",
   "metadata": {},
   "source": [
    "## *Init model*"
   ]
  },
  {
   "cell_type": "code",
   "execution_count": 184,
   "metadata": {},
   "outputs": [],
   "source": [
    "model = LightFM(**best)"
   ]
  },
  {
   "cell_type": "markdown",
   "metadata": {},
   "source": [
    "## *Fit Train*"
   ]
  },
  {
   "cell_type": "code",
   "execution_count": 185,
   "metadata": {},
   "outputs": [
    {
     "name": "stdout",
     "output_type": "stream",
     "text": [
      "CPU times: user 3min 54s, sys: 408 ms, total: 3min 55s\n",
      "Wall time: 1min\n"
     ]
    },
    {
     "data": {
      "text/plain": [
       "<lightfm.lightfm.LightFM at 0x7fbaf2a748e0>"
      ]
     },
     "execution_count": 185,
     "metadata": {},
     "output_type": "execute_result"
    }
   ],
   "source": [
    "%%time\n",
    "\n",
    "model.fit((sparse_user_item > 0) * 1,  # user-item matrix из 0 и 1\n",
    "          sample_weight=coo_matrix(user_item_matrix),\n",
    "          user_features=csr_matrix(user_feat_lightfm.values).tocsr(),\n",
    "          item_features=csr_matrix(item_feat_lightfm.values).tocsr(),\n",
    "          epochs=15, \n",
    "          num_threads=4,\n",
    "          verbose=False) "
   ]
  },
  {
   "cell_type": "markdown",
   "metadata": {},
   "source": [
    "## *Evaluation*"
   ]
  },
  {
   "cell_type": "code",
   "execution_count": 186,
   "metadata": {
    "scrolled": false
   },
   "outputs": [
    {
     "name": "stdout",
     "output_type": "stream",
     "text": [
      "user_emb shapes: (2455,) (2455, 75)\n",
      "item_emb shapes: (5000,) (5000, 75)\n"
     ]
    }
   ],
   "source": [
    "user_emb = model.get_user_representations(features=csr_matrix(user_feat_lightfm.values).tocsr())\n",
    "item_emb = model.get_item_representations(features=csr_matrix(item_feat_lightfm.values).tocsr())\n",
    "\n",
    "print('user_emb shapes:', user_emb[0].shape, user_emb[1].shape)\n",
    "print('item_emb shapes:', item_emb[0].shape, item_emb[1].shape)"
   ]
  },
  {
   "cell_type": "code",
   "execution_count": 187,
   "metadata": {},
   "outputs": [
    {
     "data": {
      "text/plain": [
       "array([-231.96638, -232.30417, -232.56096, -232.52869, -232.30084,\n",
       "       -232.48209, -232.49571], dtype=float32)"
      ]
     },
     "execution_count": 187,
     "metadata": {},
     "output_type": "execute_result"
    }
   ],
   "source": [
    "test_item_ids = np.array([1, 2, 3, 200, 1200, 4, 5])\n",
    "\n",
    "predictions = model.predict(user_ids=0, item_ids=test_item_ids,\n",
    "                            user_features=csr_matrix(user_feat_lightfm.values).tocsr(),\n",
    "                            item_features=csr_matrix(item_feat_lightfm.values).tocsr(),\n",
    "                            num_threads=4)\n",
    "predictions"
   ]
  },
  {
   "cell_type": "code",
   "execution_count": 188,
   "metadata": {},
   "outputs": [
    {
     "name": "stdout",
     "output_type": "stream",
     "text": [
      "1589 new items\n",
      "18 new users\n"
     ]
    }
   ],
   "source": [
    "print('{} new items'.format(len([i for i in test_user_item_matrix.columns if i not in user_item_matrix.columns])))\n",
    "print('{} new users'.format(len([i for i in test_user_item_matrix.index if i not in user_item_matrix.index])))"
   ]
  },
  {
   "cell_type": "code",
   "execution_count": 189,
   "metadata": {},
   "outputs": [
    {
     "data": {
      "text/html": [
       "<div>\n",
       "<style scoped>\n",
       "    .dataframe tbody tr th:only-of-type {\n",
       "        vertical-align: middle;\n",
       "    }\n",
       "\n",
       "    .dataframe tbody tr th {\n",
       "        vertical-align: top;\n",
       "    }\n",
       "\n",
       "    .dataframe thead th {\n",
       "        text-align: right;\n",
       "    }\n",
       "</style>\n",
       "<table border=\"1\" class=\"dataframe\">\n",
       "  <thead>\n",
       "    <tr style=\"text-align: right;\">\n",
       "      <th></th>\n",
       "      <th>user_id</th>\n",
       "      <th>purchases</th>\n",
       "      <th>purchases_count</th>\n",
       "    </tr>\n",
       "  </thead>\n",
       "  <tbody>\n",
       "    <tr>\n",
       "      <th>0</th>\n",
       "      <td>1</td>\n",
       "      <td>[912676, 945805, 958046, 977545, 1043064, 1055...</td>\n",
       "      <td>142</td>\n",
       "    </tr>\n",
       "    <tr>\n",
       "      <th>1</th>\n",
       "      <td>2</td>\n",
       "      <td>[1077555, 846833, 1133018, 824005, 941183, 845...</td>\n",
       "      <td>132</td>\n",
       "    </tr>\n",
       "    <tr>\n",
       "      <th>2</th>\n",
       "      <td>3</td>\n",
       "      <td>[878996, 882830, 904360, 951590, 964968, 10920...</td>\n",
       "      <td>182</td>\n",
       "    </tr>\n",
       "    <tr>\n",
       "      <th>3</th>\n",
       "      <td>4</td>\n",
       "      <td>[877523, 883932, 901032, 904973, 938566, 96496...</td>\n",
       "      <td>38</td>\n",
       "    </tr>\n",
       "    <tr>\n",
       "      <th>4</th>\n",
       "      <td>5</td>\n",
       "      <td>[938983, 866292, 925054, 946308, 1022011, 1071...</td>\n",
       "      <td>35</td>\n",
       "    </tr>\n",
       "    <tr>\n",
       "      <th>...</th>\n",
       "      <td>...</td>\n",
       "      <td>...</td>\n",
       "      <td>...</td>\n",
       "    </tr>\n",
       "    <tr>\n",
       "      <th>2450</th>\n",
       "      <td>2496</td>\n",
       "      <td>[886703, 956609, 1105467, 1138132, 866227, 955...</td>\n",
       "      <td>242</td>\n",
       "    </tr>\n",
       "    <tr>\n",
       "      <th>2451</th>\n",
       "      <td>2497</td>\n",
       "      <td>[1101956, 900802, 951590, 1065067, 1119089, 88...</td>\n",
       "      <td>235</td>\n",
       "    </tr>\n",
       "    <tr>\n",
       "      <th>2452</th>\n",
       "      <td>2498</td>\n",
       "      <td>[1031697, 1049832, 908531, 985480, 1025457, 82...</td>\n",
       "      <td>140</td>\n",
       "    </tr>\n",
       "    <tr>\n",
       "      <th>2453</th>\n",
       "      <td>2499</td>\n",
       "      <td>[853197, 903230, 821344, 822346, 846830, 85167...</td>\n",
       "      <td>214</td>\n",
       "    </tr>\n",
       "    <tr>\n",
       "      <th>2454</th>\n",
       "      <td>2500</td>\n",
       "      <td>[893018, 972931, 1058997, 854042, 1048462, 985...</td>\n",
       "      <td>230</td>\n",
       "    </tr>\n",
       "  </tbody>\n",
       "</table>\n",
       "<p>2455 rows × 3 columns</p>\n",
       "</div>"
      ],
      "text/plain": [
       "      user_id                                          purchases  \\\n",
       "0           1  [912676, 945805, 958046, 977545, 1043064, 1055...   \n",
       "1           2  [1077555, 846833, 1133018, 824005, 941183, 845...   \n",
       "2           3  [878996, 882830, 904360, 951590, 964968, 10920...   \n",
       "3           4  [877523, 883932, 901032, 904973, 938566, 96496...   \n",
       "4           5  [938983, 866292, 925054, 946308, 1022011, 1071...   \n",
       "...       ...                                                ...   \n",
       "2450     2496  [886703, 956609, 1105467, 1138132, 866227, 955...   \n",
       "2451     2497  [1101956, 900802, 951590, 1065067, 1119089, 88...   \n",
       "2452     2498  [1031697, 1049832, 908531, 985480, 1025457, 82...   \n",
       "2453     2499  [853197, 903230, 821344, 822346, 846830, 85167...   \n",
       "2454     2500  [893018, 972931, 1058997, 854042, 1048462, 985...   \n",
       "\n",
       "      purchases_count  \n",
       "0                 142  \n",
       "1                 132  \n",
       "2                 182  \n",
       "3                  38  \n",
       "4                  35  \n",
       "...               ...  \n",
       "2450              242  \n",
       "2451              235  \n",
       "2452              140  \n",
       "2453              214  \n",
       "2454              230  \n",
       "\n",
       "[2455 rows x 3 columns]"
      ]
     },
     "execution_count": 189,
     "metadata": {},
     "output_type": "execute_result"
    }
   ],
   "source": [
    "users_purchases = data_train_filtered.copy()\n",
    "users_purchases = users_purchases.groupby('user_id').apply(lambda df: list(map(lambda x: int(x), df.item_id.unique()))).reset_index(name='purchases')\n",
    "users_purchases['purchases_count'] = users_purchases['purchases'].apply(lambda x: len(x))\n",
    "users_purchases"
   ]
  },
  {
   "cell_type": "code",
   "execution_count": 190,
   "metadata": {},
   "outputs": [
    {
     "data": {
      "text/plain": [
       "0    [912676, 945805, 958046, 977545, 1043064, 1055...\n",
       "Name: purchases, dtype: object"
      ]
     },
     "execution_count": 190,
     "metadata": {},
     "output_type": "execute_result"
    }
   ],
   "source": [
    "users_purchases.query('user_id == {}'.format(1)).purchases"
   ]
  },
  {
   "cell_type": "code",
   "execution_count": 191,
   "metadata": {},
   "outputs": [
    {
     "data": {
      "text/html": [
       "<div>\n",
       "<style scoped>\n",
       "    .dataframe tbody tr th:only-of-type {\n",
       "        vertical-align: middle;\n",
       "    }\n",
       "\n",
       "    .dataframe tbody tr th {\n",
       "        vertical-align: top;\n",
       "    }\n",
       "\n",
       "    .dataframe thead th {\n",
       "        text-align: right;\n",
       "    }\n",
       "</style>\n",
       "<table border=\"1\" class=\"dataframe\">\n",
       "  <thead>\n",
       "    <tr style=\"text-align: right;\">\n",
       "      <th></th>\n",
       "      <th>age_desc</th>\n",
       "      <th>marital_status_code</th>\n",
       "      <th>income_desc</th>\n",
       "      <th>homeowner_desc</th>\n",
       "      <th>hh_comp_desc</th>\n",
       "      <th>household_size_desc</th>\n",
       "      <th>kid_category_desc</th>\n",
       "      <th>user_id</th>\n",
       "    </tr>\n",
       "  </thead>\n",
       "  <tbody>\n",
       "    <tr>\n",
       "      <th>788</th>\n",
       "      <td>45-54</td>\n",
       "      <td>B</td>\n",
       "      <td>25-34K</td>\n",
       "      <td>Homeowner</td>\n",
       "      <td>2 Adults No Kids</td>\n",
       "      <td>2</td>\n",
       "      <td>None/Unknown</td>\n",
       "      <td>2455</td>\n",
       "    </tr>\n",
       "  </tbody>\n",
       "</table>\n",
       "</div>"
      ],
      "text/plain": [
       "    age_desc marital_status_code income_desc homeowner_desc      hh_comp_desc  \\\n",
       "788    45-54                   B      25-34K      Homeowner  2 Adults No Kids   \n",
       "\n",
       "    household_size_desc kid_category_desc  user_id  \n",
       "788                   2      None/Unknown     2455  "
      ]
     },
     "execution_count": 191,
     "metadata": {},
     "output_type": "execute_result"
    }
   ],
   "source": [
    "user_features.query('user_id == 2455')"
   ]
  },
  {
   "cell_type": "code",
   "execution_count": 192,
   "metadata": {},
   "outputs": [
    {
     "data": {
      "text/plain": [
       "(1, 801)"
      ]
     },
     "execution_count": 192,
     "metadata": {},
     "output_type": "execute_result"
    }
   ],
   "source": [
    "# from lightfm.py\n",
    "user_ids = np.repeat(np.int32(0), len(test_item_ids))\n",
    "user_ids.max()+1, user_features.shape[0]"
   ]
  },
  {
   "cell_type": "code",
   "execution_count": 193,
   "metadata": {},
   "outputs": [
    {
     "data": {
      "text/plain": [
       "[]"
      ]
     },
     "execution_count": 193,
     "metadata": {},
     "output_type": "execute_result"
    }
   ],
   "source": [
    "[i for i in users_purchases.user_id if i not in user_feat_lightfm.index]"
   ]
  },
  {
   "cell_type": "code",
   "execution_count": 2,
   "metadata": {},
   "outputs": [],
   "source": [
    "test_item_ids = [i for i in range(100)] \n",
    "    # как и где лучше взять тестовые значения?\n",
    "\n",
    "for user_id in users_purchases.user_id:\n",
    "    print('USER: {}'.format(user_id))\n",
    "    bought = users_purchases.query('user_id == {}'.format(user_id)).purchases.values.tolist()[0]\n",
    "    print('bought: {}'.format(len(bought)))\n",
    "    predictions = model.predict(user_ids=user_id, item_ids=test_item_ids,\n",
    "                                user_features=csr_matrix(user_feat_lightfm.values).tocsr(),\n",
    "                                item_features=csr_matrix(item_feat_lightfm.values).tocsr(),\n",
    "                                num_threads=4)\n",
    "    print(predictions.argsort(axis=-1))\n",
    "    \n",
    "    \n",
    "#     когда юзер = 2455, алгоритм ругается на отсутствие его в\n",
    "#     user-features датасете, хотя он есть. \n",
    "\n",
    "#     Буду благодарна за комментарии по этому поводу\n",
    "\n",
    "# output in output_2.txt"
   ]
  },
  {
   "cell_type": "code",
   "execution_count": 195,
   "metadata": {},
   "outputs": [
    {
     "data": {
      "text/html": [
       "<div>\n",
       "<style scoped>\n",
       "    .dataframe tbody tr th:only-of-type {\n",
       "        vertical-align: middle;\n",
       "    }\n",
       "\n",
       "    .dataframe tbody tr th {\n",
       "        vertical-align: top;\n",
       "    }\n",
       "\n",
       "    .dataframe thead th {\n",
       "        text-align: right;\n",
       "    }\n",
       "</style>\n",
       "<table border=\"1\" class=\"dataframe\">\n",
       "  <thead>\n",
       "    <tr style=\"text-align: right;\">\n",
       "      <th></th>\n",
       "      <th>age_desc</th>\n",
       "      <th>marital_status_code</th>\n",
       "      <th>income_desc</th>\n",
       "      <th>homeowner_desc</th>\n",
       "      <th>hh_comp_desc</th>\n",
       "      <th>household_size_desc</th>\n",
       "      <th>kid_category_desc</th>\n",
       "      <th>user_id</th>\n",
       "    </tr>\n",
       "  </thead>\n",
       "  <tbody>\n",
       "    <tr>\n",
       "      <th>788</th>\n",
       "      <td>45-54</td>\n",
       "      <td>B</td>\n",
       "      <td>25-34K</td>\n",
       "      <td>Homeowner</td>\n",
       "      <td>2 Adults No Kids</td>\n",
       "      <td>2</td>\n",
       "      <td>None/Unknown</td>\n",
       "      <td>2455</td>\n",
       "    </tr>\n",
       "  </tbody>\n",
       "</table>\n",
       "</div>"
      ],
      "text/plain": [
       "    age_desc marital_status_code income_desc homeowner_desc      hh_comp_desc  \\\n",
       "788    45-54                   B      25-34K      Homeowner  2 Adults No Kids   \n",
       "\n",
       "    household_size_desc kid_category_desc  user_id  \n",
       "788                   2      None/Unknown     2455  "
      ]
     },
     "execution_count": 195,
     "metadata": {},
     "output_type": "execute_result"
    }
   ],
   "source": [
    "user_features.query('user_id == 2455')"
   ]
  },
  {
   "cell_type": "code",
   "execution_count": 196,
   "metadata": {},
   "outputs": [
    {
     "data": {
      "text/plain": [
       "(1, 801)"
      ]
     },
     "execution_count": 196,
     "metadata": {},
     "output_type": "execute_result"
    }
   ],
   "source": [
    "# from lightfm.py\n",
    "user_ids = np.repeat(np.int32(0), len(test_item_ids))\n",
    "user_ids.max()+1, user_features.shape[0]"
   ]
  },
  {
   "cell_type": "code",
   "execution_count": 197,
   "metadata": {},
   "outputs": [
    {
     "data": {
      "text/plain": [
       "[]"
      ]
     },
     "execution_count": 197,
     "metadata": {},
     "output_type": "execute_result"
    }
   ],
   "source": [
    "[i for i in users_purchases.user_id if i not in user_feat_lightfm.index]"
   ]
  },
  {
   "cell_type": "code",
   "execution_count": 157,
   "metadata": {},
   "outputs": [],
   "source": [
    "def print_bold_intersect(actual, preds):\n",
    "    for pred in preds:\n",
    "        if pred in actual:\n",
    "            print('\\033[1m'+str(pred), end=' ')\n",
    "            continue\n",
    "        print('\\033[0m'+str(pred), end = ' ')\n",
    "    print('\\033[0m')"
   ]
  },
  {
   "cell_type": "code",
   "execution_count": 3,
   "metadata": {},
   "outputs": [],
   "source": [
    "from src.metrics import precision_at_k, recall_at_k\n",
    "\n",
    "N = 10\n",
    "precisions = []\n",
    "recalls = []\n",
    "\n",
    "for user_id in users_purchases.user_id:\n",
    "    bought = users_purchases.query('user_id == {}'.format(user_id)).purchases.values.tolist()[0]\n",
    "    try:\n",
    "        predictions = model.predict(user_ids=user_id, item_ids=test_item_ids,\n",
    "                                user_features=csr_matrix(user_feat_lightfm.values).tocsr(),\n",
    "                                item_features=csr_matrix(item_feat_lightfm.values).tocsr(),\n",
    "                                num_threads=4)\n",
    "    except Exception as e:\n",
    "        print('USER_ID: {}'.format(user_id))\n",
    "        print(str(e))\n",
    "    ranged_items_ids = [int(id_to_itemid[i]) for i in predictions.argsort(axis=-1)[:N]]\n",
    "\n",
    "    p = precision_at_k(ranged_items_ids, bought)\n",
    "    r = recall_at_k(ranged_items_ids, bought)\n",
    "    if p*r != 0:\n",
    "        print('USER_ID: {}\\npredictions:'.format(user_id))\n",
    "        print_bold_intersect(bought, ranged_items_ids)\n",
    "        print('precision@k50:', p)\n",
    "        print('recall@50:', r)\n",
    "        \n",
    "# output in output_3.txt"
   ]
  },
  {
   "cell_type": "markdown",
   "metadata": {},
   "source": [
    "## *Train Precision*"
   ]
  },
  {
   "cell_type": "code",
   "execution_count": 125,
   "metadata": {},
   "outputs": [
    {
     "name": "stdout",
     "output_type": "stream",
     "text": [
      "CPU times: user 11.3 s, sys: 48.2 ms, total: 11.3 s\n",
      "Wall time: 11.5 s\n"
     ]
    },
    {
     "data": {
      "text/plain": [
       "0.12668024"
      ]
     },
     "execution_count": 125,
     "metadata": {},
     "output_type": "execute_result"
    }
   ],
   "source": [
    "%%time\n",
    "from lightfm.evaluation import precision_at_k\n",
    "\n",
    "train_precision = precision_at_k(model, sparse_user_item, \n",
    "                                 user_features=csr_matrix(user_feat_lightfm.values).tocsr(),\n",
    "                                 item_features=csr_matrix(item_feat_lightfm.values).tocsr(),\n",
    "                                 k=5).mean()\n",
    "\n",
    "train_precision "
   ]
  },
  {
   "cell_type": "markdown",
   "metadata": {},
   "source": [
    "## *Test Precision*"
   ]
  },
  {
   "cell_type": "code",
   "execution_count": 127,
   "metadata": {},
   "outputs": [
    {
     "data": {
      "text/plain": [
       "0.0034650788"
      ]
     },
     "execution_count": 127,
     "metadata": {},
     "output_type": "execute_result"
    }
   ],
   "source": [
    "test_precision = precision_at_k(model, csr_matrix(test_user_item_matrix).tocsr(), \n",
    "                                 user_features=csr_matrix(user_feat_lightfm.values).tocsr(),\n",
    "                                 item_features=csr_matrix(item_feat_lightfm.values).tocsr(),\n",
    "                                 k=5).mean()\n",
    "\n",
    "test_precision "
   ]
  },
  {
   "cell_type": "code",
   "execution_count": 161,
   "metadata": {},
   "outputs": [],
   "source": [
    "from lightfm.evaluation import recall_at_k, reciprocal_rank, auc_score"
   ]
  },
  {
   "cell_type": "code",
   "execution_count": 162,
   "metadata": {
    "scrolled": true
   },
   "outputs": [
    {
     "data": {
      "text/plain": [
       "0.0012809259397784205"
      ]
     },
     "execution_count": 162,
     "metadata": {},
     "output_type": "execute_result"
    }
   ],
   "source": [
    "test_recall = recall_at_k(model, csr_matrix(test_user_item_matrix).tocsr(), \n",
    "                                 user_features=csr_matrix(user_feat_lightfm.values).tocsr(),\n",
    "                                 item_features=csr_matrix(item_feat_lightfm.values).tocsr(),\n",
    "                                 k=5).mean()\n",
    "\n",
    "test_recall"
   ]
  },
  {
   "cell_type": "code",
   "execution_count": 163,
   "metadata": {},
   "outputs": [
    {
     "data": {
      "text/plain": [
       "0.016455995"
      ]
     },
     "execution_count": 163,
     "metadata": {},
     "output_type": "execute_result"
    }
   ],
   "source": [
    "test_rr = reciprocal_rank(model, csr_matrix(test_user_item_matrix).tocsr(), \n",
    "                                 user_features=csr_matrix(user_feat_lightfm.values).tocsr(),\n",
    "                                 item_features=csr_matrix(item_feat_lightfm.values).tocsr(),\n",
    "                                ).mean()\n",
    "\n",
    "test_rr"
   ]
  },
  {
   "cell_type": "code",
   "execution_count": 164,
   "metadata": {},
   "outputs": [
    {
     "data": {
      "text/plain": [
       "0.4973105"
      ]
     },
     "execution_count": 164,
     "metadata": {},
     "output_type": "execute_result"
    }
   ],
   "source": [
    "test_auc = auc_score(model, csr_matrix(test_user_item_matrix).tocsr(), \n",
    "                                 user_features=csr_matrix(user_feat_lightfm.values).tocsr(),\n",
    "                                 item_features=csr_matrix(item_feat_lightfm.values).tocsr(),\n",
    "                                 ).mean()\n",
    "\n",
    "test_auc"
   ]
  },
  {
   "cell_type": "markdown",
   "metadata": {},
   "source": [
    "очень плохие результаты"
   ]
  }
 ],
 "metadata": {
  "kernelspec": {
   "display_name": "Python 3 (ipykernel)",
   "language": "python",
   "name": "python3"
  },
  "language_info": {
   "codemirror_mode": {
    "name": "ipython",
    "version": 3
   },
   "file_extension": ".py",
   "mimetype": "text/x-python",
   "name": "python",
   "nbconvert_exporter": "python",
   "pygments_lexer": "ipython3",
   "version": "3.9.12"
  },
  "toc": {
   "base_numbering": 1,
   "nav_menu": {},
   "number_sections": true,
   "sideBar": true,
   "skip_h1_title": false,
   "title_cell": "Table of Contents",
   "title_sidebar": "Contents",
   "toc_cell": false,
   "toc_position": {
    "height": "calc(100% - 180px)",
    "left": "10px",
    "top": "150px",
    "width": "290.17px"
   },
   "toc_section_display": true,
   "toc_window_display": false
  },
  "vscode": {
   "interpreter": {
    "hash": "090ad81762ad62c6a5ce116f900fa623eaf7b1cd6cd0ef3f9318ace1340958a3"
   }
  }
 },
 "nbformat": 4,
 "nbformat_minor": 2
}
