{
 "cells": [
  {
   "cell_type": "markdown",
   "metadata": {},
   "source": [
    "# #4 Content-based recommendations"
   ]
  },
  {
   "cell_type": "code",
   "execution_count": 1,
   "metadata": {},
   "outputs": [],
   "source": [
    "import pandas as pd\n",
    "import numpy as np\n",
    "import matplotlib.pyplot as plt\n",
    "%matplotlib inline\n",
    "\n",
    "# Для работы с матрицами\n",
    "from scipy.sparse import csr_matrix\n",
    "\n",
    "# Матричная факторизация\n",
    "from implicit.als import AlternatingLeastSquares\n",
    "from implicit.nearest_neighbours import ItemItemRecommender\n",
    "from implicit.nearest_neighbours import bm25_weight, tfidf_weight\n",
    "\n",
    "# Функции из 1-ого вебинара\n",
    "import os, sys\n",
    "\n",
    "module_path = os.path.abspath(os.path.join(os.pardir))\n",
    "if module_path not in sys.path:\n",
    "    sys.path.append(module_path)\n",
    "    \n",
    "USER_COL = 'user_id'\n",
    "ITEM_COL = 'item_id'"
   ]
  },
  {
   "cell_type": "code",
   "execution_count": 2,
   "metadata": {},
   "outputs": [
    {
     "name": "stdout",
     "output_type": "stream",
     "text": [
      "Ok\n"
     ]
    }
   ],
   "source": [
    "from src.recommenders import MainRecommender\n",
    "from src.metrics import precision_at_k, recall_at_k\n",
    "from src.utils import  prefilter_items\n",
    "print('Ok')"
   ]
  },
  {
   "cell_type": "markdown",
   "metadata": {},
   "source": [
    "### Prepare data"
   ]
  },
  {
   "cell_type": "code",
   "execution_count": 3,
   "metadata": {},
   "outputs": [],
   "source": [
    "data = pd.read_csv('../2_baselines_implicit/retail_train.csv')\n",
    "\n",
    "data.columns = [col.lower() for col in data.columns]\n",
    "data.rename(columns={'household_key': 'user_id',\n",
    "                    'product_id': 'item_id'},\n",
    "           inplace=True)\n",
    "\n",
    "\n",
    "test_size_weeks = 3\n",
    "\n",
    "data_train = data[data['week_no'] < data['week_no'].max() - test_size_weeks]\n",
    "data_test = data[data['week_no'] >= data['week_no'].max() - test_size_weeks]\n",
    "\n",
    "item_features = pd.read_csv('../3_collaborative_filtering/product.csv')\n",
    "item_features.columns = [col.lower() for col in item_features.columns]\n",
    "item_features.rename(columns={'product_id': 'item_id'}, inplace=True)\n",
    "\n",
    "result = data_test.groupby('user_id')['item_id'].unique().reset_index()\n",
    "result.columns=['user_id', 'actual']"
   ]
  },
  {
   "cell_type": "code",
   "execution_count": 4,
   "metadata": {},
   "outputs": [
    {
     "name": "stdout",
     "output_type": "stream",
     "text": [
      "== Starting prefilter info ==\n",
      "shape: (2278490, 12)\n",
      "# users: 2499\n",
      "# items: 86865\n",
      "Sparsity: 1.050%\n",
      "== Ending prefilter info ==\n",
      "shape: (641574, 13)\n",
      "# users: 2474\n",
      "# items: 5000\n",
      "Sparsity: 5.187%\n",
      "new_columns: {'price'}\n"
     ]
    }
   ],
   "source": [
    "data_train = prefilter_items(data_train, item_features)"
   ]
  },
  {
   "cell_type": "markdown",
   "metadata": {},
   "source": [
    "### Train recommender"
   ]
  },
  {
   "cell_type": "code",
   "execution_count": 5,
   "metadata": {
    "scrolled": true
   },
   "outputs": [
    {
     "data": {
      "application/vnd.jupyter.widget-view+json": {
       "model_id": "48887131857045658d6a0f2dab4e63ed",
       "version_major": 2,
       "version_minor": 0
      },
      "text/plain": [
       "  0%|          | 0/15 [00:00<?, ?it/s]"
      ]
     },
     "metadata": {},
     "output_type": "display_data"
    },
    {
     "data": {
      "application/vnd.jupyter.widget-view+json": {
       "model_id": "fd86f2a25cf14d4ab0d3ff977deae83f",
       "version_major": 2,
       "version_minor": 0
      },
      "text/plain": [
       "  0%|          | 0/5000 [00:00<?, ?it/s]"
      ]
     },
     "metadata": {},
     "output_type": "display_data"
    }
   ],
   "source": [
    "mr = MainRecommender(data_train, weighting=True)"
   ]
  },
  {
   "cell_type": "markdown",
   "metadata": {},
   "source": [
    "### Get recommendations"
   ]
  },
  {
   "cell_type": "code",
   "execution_count": 6,
   "metadata": {
    "scrolled": true
   },
   "outputs": [
    {
     "name": "stdout",
     "output_type": "stream",
     "text": [
      "user_id  similarity\n",
      "1        1.0\n",
      "1900     0.77986956\n",
      "993      0.72640586\n",
      "712      0.7074581\n",
      "2441     0.67684877\n"
     ]
    }
   ],
   "source": [
    "sim_users = mr.model.similar_users(0, N=5)\n",
    "recs = [(mr.id_to_userid[uid], sim) for (uid, sim) in zip(sim_users[0], sim_users[1])]\n",
    "print('user_id  similarity')\n",
    "for rec in recs:\n",
    "    print(str(rec[0]).ljust(8), rec[1])"
   ]
  },
  {
   "cell_type": "code",
   "execution_count": 7,
   "metadata": {},
   "outputs": [
    {
     "data": {
      "text/plain": [
       "[954486, 9487420, 889618, 1037332, 9245479]"
      ]
     },
     "execution_count": 7,
     "metadata": {},
     "output_type": "execute_result"
    }
   ],
   "source": [
    "# recommend items by similar_users\n",
    "user_to_recommend = mr.id_to_userid[0]\n",
    "mr.get_similar_users_recommendation(user_to_recommend, N=5)\n"
   ]
  },
  {
   "cell_type": "code",
   "execution_count": 8,
   "metadata": {},
   "outputs": [
    {
     "data": {
      "text/html": [
       "<div>\n",
       "<style scoped>\n",
       "    .dataframe tbody tr th:only-of-type {\n",
       "        vertical-align: middle;\n",
       "    }\n",
       "\n",
       "    .dataframe tbody tr th {\n",
       "        vertical-align: top;\n",
       "    }\n",
       "\n",
       "    .dataframe thead th {\n",
       "        text-align: right;\n",
       "    }\n",
       "</style>\n",
       "<table border=\"1\" class=\"dataframe\">\n",
       "  <thead>\n",
       "    <tr style=\"text-align: right;\">\n",
       "      <th></th>\n",
       "      <th>user_id</th>\n",
       "      <th>basket_id</th>\n",
       "      <th>day</th>\n",
       "      <th>item_id</th>\n",
       "      <th>quantity</th>\n",
       "      <th>sales_value</th>\n",
       "      <th>store_id</th>\n",
       "      <th>retail_disc</th>\n",
       "      <th>trans_time</th>\n",
       "      <th>week_no</th>\n",
       "      <th>coupon_disc</th>\n",
       "      <th>coupon_match_disc</th>\n",
       "    </tr>\n",
       "  </thead>\n",
       "  <tbody>\n",
       "    <tr>\n",
       "      <th>1501453</th>\n",
       "      <td>1900</td>\n",
       "      <td>33472696781</td>\n",
       "      <td>440</td>\n",
       "      <td>954486</td>\n",
       "      <td>1</td>\n",
       "      <td>0.89</td>\n",
       "      <td>329</td>\n",
       "      <td>0.0</td>\n",
       "      <td>1458</td>\n",
       "      <td>64</td>\n",
       "      <td>0.0</td>\n",
       "      <td>0.0</td>\n",
       "    </tr>\n",
       "    <tr>\n",
       "      <th>1509496</th>\n",
       "      <td>1900</td>\n",
       "      <td>33493601358</td>\n",
       "      <td>443</td>\n",
       "      <td>954486</td>\n",
       "      <td>2</td>\n",
       "      <td>1.78</td>\n",
       "      <td>384</td>\n",
       "      <td>0.0</td>\n",
       "      <td>1410</td>\n",
       "      <td>64</td>\n",
       "      <td>0.0</td>\n",
       "      <td>0.0</td>\n",
       "    </tr>\n",
       "    <tr>\n",
       "      <th>1526711</th>\n",
       "      <td>1900</td>\n",
       "      <td>33655811672</td>\n",
       "      <td>447</td>\n",
       "      <td>954486</td>\n",
       "      <td>2</td>\n",
       "      <td>1.78</td>\n",
       "      <td>329</td>\n",
       "      <td>0.0</td>\n",
       "      <td>1421</td>\n",
       "      <td>65</td>\n",
       "      <td>0.0</td>\n",
       "      <td>0.0</td>\n",
       "    </tr>\n",
       "  </tbody>\n",
       "</table>\n",
       "</div>"
      ],
      "text/plain": [
       "         user_id    basket_id  day  item_id  quantity  sales_value  store_id  \\\n",
       "1501453     1900  33472696781  440   954486         1         0.89       329   \n",
       "1509496     1900  33493601358  443   954486         2         1.78       384   \n",
       "1526711     1900  33655811672  447   954486         2         1.78       329   \n",
       "\n",
       "         retail_disc  trans_time  week_no  coupon_disc  coupon_match_disc  \n",
       "1501453          0.0        1458       64          0.0                0.0  \n",
       "1509496          0.0        1410       64          0.0                0.0  \n",
       "1526711          0.0        1421       65          0.0                0.0  "
      ]
     },
     "execution_count": 8,
     "metadata": {},
     "output_type": "execute_result"
    }
   ],
   "source": [
    "data[(data.user_id == 1900) & (data.item_id == 954486)]"
   ]
  },
  {
   "cell_type": "code",
   "execution_count": 9,
   "metadata": {},
   "outputs": [
    {
     "name": "stdout",
     "output_type": "stream",
     "text": [
      "item_id  similarity\n",
      "201704   0.99999994\n",
      "43871    0.94874406\n",
      "28897    0.94142014\n",
      "10456575 0.6790069\n",
      "10456371 0.6297973\n"
     ]
    }
   ],
   "source": [
    "item_id = mr.id_to_itemid[2]\n",
    "recs = mr._get_similar_items(item_id, N=5)\n",
    "\n",
    "\n",
    "recs = [(mr.id_to_itemid[iid], sim) for (iid, sim) in zip(recs[0], recs[1])]\n",
    "print('item_id  similarity')\n",
    "for rec in recs:\n",
    "    print(str(rec[0]).ljust(8), rec[1])"
   ]
  },
  {
   "cell_type": "code",
   "execution_count": 13,
   "metadata": {
    "scrolled": true
   },
   "outputs": [
    {
     "name": "stdout",
     "output_type": "stream",
     "text": [
      "[7166839, 855325, 1058997, 1023720, 966103]\n"
     ]
    }
   ],
   "source": [
    "sim_item_recs = mr.get_similar_items_recommendation(user_to_recommend)\n",
    "print(sim_item_recs)"
   ]
  },
  {
   "cell_type": "code",
   "execution_count": 21,
   "metadata": {},
   "outputs": [],
   "source": [
    "bought = data_train[data_train['user_id'] == user_to_recommend].item_id.unique()"
   ]
  },
  {
   "cell_type": "code",
   "execution_count": 25,
   "metadata": {},
   "outputs": [
    {
     "data": {
      "text/plain": [
       "0.0"
      ]
     },
     "execution_count": 25,
     "metadata": {},
     "output_type": "execute_result"
    }
   ],
   "source": [
    "recall_at_k(recommended_list=sim_item_recs, bought_list=bought[:5])"
   ]
  },
  {
   "cell_type": "code",
   "execution_count": 31,
   "metadata": {},
   "outputs": [
    {
     "data": {
      "text/plain": [
       "2.0"
      ]
     },
     "execution_count": 31,
     "metadata": {},
     "output_type": "execute_result"
    }
   ],
   "source": [
    "np.mean([1, 2, 3])"
   ]
  },
  {
   "cell_type": "code",
   "execution_count": 101,
   "metadata": {},
   "outputs": [],
   "source": [
    "def print_eval_stats(name, recs, bought):\n",
    "    print('{:*^21}'.format(name))\n",
    "    p = precision_at_k(recommended_list=recs, bought_list=bought, k=5)\n",
    "    average_precisions[name].append(p)\n",
    "    print('precision@5:', p)\n",
    "    r = recall_at_k(recommended_list=recs, bought_list=bought, k=50)\n",
    "    average_recalls[name].append(r)\n",
    "    print('recall@50:', r)"
   ]
  },
  {
   "cell_type": "code",
   "execution_count": 102,
   "metadata": {
    "scrolled": true
   },
   "outputs": [
    {
     "name": "stdout",
     "output_type": "stream",
     "text": [
      "USER: 338\n",
      "****similar users****\n",
      "precision@5: 0.0\n",
      "recall@50: 0.0380952380952381\n",
      "****similar items****\n",
      "precision@5: 0.2\n",
      "recall@50: 0.05714285714285714\n",
      "*********ALS*********\n",
      "precision@5: 0.6\n",
      "recall@50: 0.14285714285714285\n",
      "*own recommendations*\n",
      "precision@5: 0.0\n",
      "recall@50: 0.0380952380952381\n",
      "\n",
      "USER: 2120\n",
      "****similar users****\n",
      "precision@5: 0.0\n",
      "recall@50: 0.0\n",
      "****similar items****\n",
      "precision@5: 0.0\n",
      "recall@50: 0.0\n",
      "*********ALS*********\n",
      "precision@5: 0.0\n",
      "recall@50: 0.0\n",
      "*own recommendations*\n",
      "precision@5: 0.0\n",
      "recall@50: 0.0\n",
      "\n",
      "USER: 2324\n",
      "****similar users****\n",
      "precision@5: 0.0\n",
      "recall@50: 0.015384615384615385\n",
      "****similar items****\n",
      "precision@5: 0.2\n",
      "recall@50: 0.03076923076923077\n",
      "*********ALS*********\n",
      "precision@5: 0.4\n",
      "recall@50: 0.1076923076923077\n",
      "*own recommendations*\n",
      "precision@5: 0.0\n",
      "recall@50: 0.12307692307692308\n",
      "\n",
      "USER: 514\n",
      "****similar users****\n",
      "precision@5: 0.2\n",
      "recall@50: 0.07692307692307693\n",
      "****similar items****\n",
      "precision@5: 0.0\n",
      "recall@50: 0.07692307692307693\n",
      "*********ALS*********\n",
      "precision@5: 0.4\n",
      "recall@50: 0.15384615384615385\n",
      "*own recommendations*\n",
      "precision@5: 0.2\n",
      "recall@50: 0.1346153846153846\n",
      "\n",
      "USER: 1762\n",
      "****similar users****\n",
      "precision@5: 0.0\n",
      "recall@50: 0.008695652173913044\n",
      "****similar items****\n",
      "precision@5: 0.0\n",
      "recall@50: 0.034782608695652174\n",
      "*********ALS*********\n",
      "precision@5: 0.4\n",
      "recall@50: 0.034782608695652174\n",
      "*own recommendations*\n",
      "precision@5: 0.0\n",
      "recall@50: 0.06956521739130435\n",
      "\n",
      "USER: 1550\n",
      "****similar users****\n",
      "precision@5: 0.0\n",
      "recall@50: 0.017857142857142856\n",
      "****similar items****\n",
      "precision@5: 0.4\n",
      "recall@50: 0.10714285714285714\n",
      "*********ALS*********\n",
      "precision@5: 0.4\n",
      "recall@50: 0.17857142857142858\n",
      "*own recommendations*\n",
      "precision@5: 0.0\n",
      "recall@50: 0.17857142857142858\n",
      "\n",
      "USER: 762\n",
      "****similar users****\n",
      "precision@5: 0.0\n",
      "recall@50: 0.0\n",
      "****similar items****\n",
      "precision@5: 0.0\n",
      "recall@50: 0.007633587786259542\n",
      "*********ALS*********\n",
      "precision@5: 0.2\n",
      "recall@50: 0.022900763358778626\n",
      "*own recommendations*\n",
      "precision@5: 0.2\n",
      "recall@50: 0.015267175572519083\n",
      "\n",
      "USER: 301\n",
      "****similar users****\n",
      "precision@5: 0.0\n",
      "recall@50: 0.006756756756756757\n",
      "****similar items****\n",
      "precision@5: 0.6\n",
      "recall@50: 0.02702702702702703\n",
      "*********ALS*********\n",
      "precision@5: 0.2\n",
      "recall@50: 0.02702702702702703\n",
      "*own recommendations*\n",
      "precision@5: 0.0\n",
      "recall@50: 0.02027027027027027\n",
      "\n",
      "USER: 1462\n",
      "****similar users****\n",
      "precision@5: 0.4\n",
      "recall@50: 0.045112781954887216\n",
      "****similar items****\n",
      "precision@5: 0.0\n",
      "recall@50: 0.03007518796992481\n",
      "*********ALS*********\n",
      "precision@5: 0.2\n",
      "recall@50: 0.06766917293233082\n",
      "*own recommendations*\n",
      "precision@5: 0.0\n",
      "recall@50: 0.10526315789473684\n",
      "\n",
      "USER: 1907\n",
      "****similar users****\n",
      "precision@5: 0.0\n",
      "recall@50: 0.0\n",
      "****similar items****\n",
      "precision@5: 0.4\n",
      "recall@50: 0.062111801242236024\n",
      "*********ALS*********\n",
      "precision@5: 0.4\n",
      "recall@50: 0.08074534161490683\n",
      "*own recommendations*\n",
      "precision@5: 0.2\n",
      "recall@50: 0.06832298136645963\n",
      "\n"
     ]
    }
   ],
   "source": [
    "N=50\n",
    "\n",
    "model_names =  ('similar users', 'similar items', 'ALS', 'own recommendations')\n",
    "average_precisions = {k: [] for k in model_names}\n",
    "average_recalls = {k: [] for k in model_names}\n",
    "\n",
    "for user in data_test.user_id.unique()[:10]:\n",
    "    print('USER: {}'.format(user))\n",
    "    actual = data_test[data_test.user_id==user].item_id.unique().tolist()\n",
    "    \n",
    "    sim_user_rec = mr.get_similar_users_recommendation(user, N=N)\n",
    "    sim_item_rec = mr.get_similar_items_recommendation(user, N=N)\n",
    "    als_rec = mr.get_als_recommendations(user, N=N)\n",
    "    own_rec = mr.get_own_recommendations(user, N=N)\n",
    "    \n",
    "    for rec, name in ((sim_user_rec, 'similar users'), (sim_item_rec, 'similar items'), (als_rec, 'ALS'), (own_rec, 'own recommendations')):\n",
    "        print_eval_stats(name, rec, actual)\n",
    "    print()"
   ]
  },
  {
   "cell_type": "code",
   "execution_count": 122,
   "metadata": {},
   "outputs": [
    {
     "name": "stdout",
     "output_type": "stream",
     "text": [
      "                      average precision@5 by 10 test users\n",
      "       similar users  0.060000\n",
      "       similar items  0.180000\n",
      "                 ALS  0.320000\n",
      " own recommendations  0.060000\n"
     ]
    }
   ],
   "source": [
    "print('average precision@5 by 10 test users'.rjust(58))\n",
    "for key, value in average_precisions.items():\n",
    "    print('{}  {:.6f}'.format(key.rjust(20), np.mean(value)))"
   ]
  },
  {
   "cell_type": "code",
   "execution_count": 118,
   "metadata": {},
   "outputs": [
    {
     "name": "stdout",
     "output_type": "stream",
     "text": [
      "                      average recall@50 by 10 test users\n",
      "       similar users  0.020883\n",
      "       similar items  0.043361\n",
      "                 ALS  0.081609\n",
      " own recommendations  0.075305\n"
     ]
    }
   ],
   "source": [
    "print('average recall@50 by 10 test users'.rjust(56))\n",
    "for key, value in average_recalls.items():\n",
    "    print('{}  {:.6f}'.format(key.rjust(20), np.mean(value)))"
   ]
  }
 ],
 "metadata": {
  "interpreter": {
   "hash": "32086f9b7cc52bc2c8629421cf6cba175094c2e18299455caf64f8eb675094c9"
  },
  "kernelspec": {
   "display_name": "Python 3 (ipykernel)",
   "language": "python",
   "name": "python3"
  },
  "language_info": {
   "codemirror_mode": {
    "name": "ipython",
    "version": 3
   },
   "file_extension": ".py",
   "mimetype": "text/x-python",
   "name": "python",
   "nbconvert_exporter": "python",
   "pygments_lexer": "ipython3",
   "version": "3.10.5"
  },
  "toc": {
   "base_numbering": 1,
   "nav_menu": {},
   "number_sections": true,
   "sideBar": true,
   "skip_h1_title": false,
   "title_cell": "Table of Contents",
   "title_sidebar": "Contents",
   "toc_cell": false,
   "toc_position": {},
   "toc_section_display": true,
   "toc_window_display": false
  }
 },
 "nbformat": 4,
 "nbformat_minor": 2
}
