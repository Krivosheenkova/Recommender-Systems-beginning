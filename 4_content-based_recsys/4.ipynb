{
 "cells": [
  {
   "cell_type": "markdown",
   "metadata": {},
   "source": [
    "# #4 Content-based recommendations"
   ]
  },
  {
   "cell_type": "code",
   "execution_count": 1,
   "metadata": {},
   "outputs": [],
   "source": [
    "import pandas as pd\n",
    "import numpy as np\n",
    "import matplotlib.pyplot as plt\n",
    "%matplotlib inline\n",
    "\n",
    "# Для работы с матрицами\n",
    "from scipy.sparse import csr_matrix\n",
    "\n",
    "# Матричная факторизация\n",
    "from implicit.als import AlternatingLeastSquares\n",
    "from implicit.nearest_neighbours import ItemItemRecommender\n",
    "from implicit.nearest_neighbours import bm25_weight, tfidf_weight\n",
    "\n",
    "import os, sys\n",
    "\n",
    "module_path = os.path.abspath(os.path.join(os.pardir))\n",
    "if module_path not in sys.path:\n",
    "    sys.path.append(module_path)\n",
    "    \n",
    "USER_COL = 'user_id'\n",
    "ITEM_COL = 'item_id'"
   ]
  },
  {
   "cell_type": "code",
   "execution_count": 2,
   "metadata": {},
   "outputs": [
    {
     "name": "stdout",
     "output_type": "stream",
     "text": [
      "Ok\n"
     ]
    }
   ],
   "source": [
    "from src.recommenders import MainRecommender\n",
    "from src.metrics import precision_at_k, recall_at_k\n",
    "from src.utils import  prefilter_items\n",
    "print('Ok')"
   ]
  },
  {
   "cell_type": "code",
   "execution_count": 3,
   "metadata": {},
   "outputs": [],
   "source": [
    "class MainRecommender:\n",
    "    \"\"\"Рекоммендации, которые можно получить из ALS\n",
    "\n",
    "    Input\n",
    "    -----\n",
    "    user_item_matrix: pd.DataFrame\n",
    "        Матрица взаимодействий user-item\n",
    "    \"\"\"\n",
    "\n",
    "    def __init__(self, data, weighting=None,fake_id=99999):\n",
    "        \n",
    "        self.fake_id = fake_id\n",
    "        # Топ покупок каждого юзера\n",
    "        self.top_purchases = data.groupby([USER_COL, ITEM_COL])['quantity'].count().reset_index()\n",
    "        self.top_purchases.sort_values('quantity', ascending=False, inplace=True)\n",
    "        self.top_purchases = self.top_purchases[self.top_purchases[ITEM_COL] != self.fake_id]\n",
    "\n",
    "        # Топ покупок по всему датасету\n",
    "        self.overall_top_purchases = data.groupby(ITEM_COL)['quantity'].count().reset_index()\n",
    "        self.overall_top_purchases.sort_values('quantity', ascending=False, inplace=True)\n",
    "        self.overall_top_purchases = self.overall_top_purchases[self.overall_top_purchases[ITEM_COL] != self.fake_id]\n",
    "        self.overall_top_purchases = self.overall_top_purchases.item_id.tolist()\n",
    "\n",
    "        self.user_item_matrix = self._prepare_matrix(data)  # pd.DataFrame\n",
    "        self.id_to_itemid, self.id_to_userid, \\\n",
    "            self.itemid_to_id, self.userid_to_id = self._prepare_dicts(self.user_item_matrix)\n",
    "\n",
    "        if weighting:\n",
    "            self.user_item_matrix = bm25_weight(self.user_item_matrix.T).T\n",
    "\n",
    "        self.model = self.fit(self.user_item_matrix)\n",
    "        self.own_recommender = self.fit_own_recommender(self.user_item_matrix)\n",
    "        self.fitted = True\n",
    "\n",
    "    @staticmethod\n",
    "    def _prepare_matrix(data):\n",
    "        \"\"\"Готовит user-item матрицу\"\"\"\n",
    "        user_item_matrix = pd.pivot_table(data,\n",
    "                                          index=USER_COL, columns=ITEM_COL,\n",
    "                                          values='price',\n",
    "                                          aggfunc='sum',\n",
    "                                          fill_value=0\n",
    "                                          )\n",
    "\n",
    "        user_item_matrix = user_item_matrix.astype(float)  # необходимый тип матрицы для implicit\n",
    "\n",
    "        return user_item_matrix\n",
    "\n",
    "    @staticmethod\n",
    "    def _prepare_dicts(user_item_matrix):\n",
    "        \"\"\"Подготавливает вспомогательные словари\"\"\"\n",
    "\n",
    "        userids = user_item_matrix.index.values\n",
    "        itemids = user_item_matrix.columns.values\n",
    "\n",
    "        matrix_userids = np.arange(len(userids))\n",
    "        matrix_itemids = np.arange(len(itemids))\n",
    "\n",
    "        id_to_itemid = dict(zip(matrix_itemids, itemids))\n",
    "        id_to_userid = dict(zip(matrix_userids, userids))\n",
    "\n",
    "        itemid_to_id = dict(zip(itemids, matrix_itemids))\n",
    "        userid_to_id = dict(zip(userids, matrix_userids))\n",
    "\n",
    "        return id_to_itemid, id_to_userid, itemid_to_id, userid_to_id\n",
    "\n",
    "    @staticmethod\n",
    "    def fit_own_recommender(user_item_matrix):\n",
    "        \"\"\"Обучает модель, которая рекомендует товары, среди товаров, купленных юзером\"\"\"\n",
    "\n",
    "        own_recommender = ItemItemRecommender(K=1, num_threads=4)\n",
    "        own_recommender.fit(csr_matrix(user_item_matrix).tocsr())\n",
    "\n",
    "        return own_recommender\n",
    "\n",
    "    @staticmethod\n",
    "    def fit(user_item_matrix, n_factors=20, regularization=0.002, iterations=15, num_threads=4):\n",
    "        \"\"\"Обучает ALS\"\"\"\n",
    "\n",
    "        model = AlternatingLeastSquares(factors=n_factors,\n",
    "                                        regularization=regularization,\n",
    "                                        iterations=iterations,\n",
    "                                        num_threads=num_threads)\n",
    "        model.fit(csr_matrix(user_item_matrix).tocsr())\n",
    "\n",
    "        return model\n",
    "\n",
    "    def _update_dict(self, user_id):\n",
    "        \"\"\"Если появился новый user / item, то нужно обновить словари\"\"\"\n",
    "\n",
    "        if user_id not in self.userid_to_id.keys():\n",
    "            max_id = max(list(self.userid_to_id.values()))\n",
    "            max_id += 1\n",
    "\n",
    "            self.userid_to_id.update({user_id: max_id})\n",
    "            self.id_to_userid.update({max_id: user_id})\n",
    "            print('new user: %d\\tusers count: %d' % (user_id, len(list(self.userid_to_id.values()))))\n",
    "\n",
    "    def _get_similar_items(self, item_id, N):\n",
    "        \"\"\"Находит товар, похожий на item_id\"\"\"\n",
    "        recs = self.model.similar_items(self.itemid_to_id[item_id], N)\n",
    "        return recs\n",
    "\n",
    "    def _extend_with_top_popular(self, recommendations, N=5):\n",
    "        \"\"\"Если кол-во рекоммендаций < N, то дополняем их топ-популярными\"\"\"\n",
    "\n",
    "        if len(recommendations) < N:\n",
    "            recommendations.extend(self.overall_top_purchases[:N])\n",
    "            recommendations = recommendations[:N]\n",
    "        recommendations = recommendations[:N]\n",
    "        return recommendations\n",
    "\n",
    "    def _get_recommendations(self, user, model, N=5):\n",
    "        \"\"\"Рекомендации через стардартные библиотеки implicit\"\"\"\n",
    "\n",
    "        self._update_dict(user_id=user)\n",
    "        userid = self.userid_to_id[user]\n",
    "        user_item_matrix = csr_matrix(self.user_item_matrix).tocsr()\n",
    "\n",
    "        res = [self.id_to_itemid[rec] for rec in model.recommend(userid=userid,\n",
    "                                    user_items=user_item_matrix[userid],\n",
    "                                    N=N,\n",
    "                                    filter_already_liked_items=False,\n",
    "                                    filter_items=[self.itemid_to_id[self.fake_id]],\n",
    "                                    recalculate_user=True)[0]]\n",
    "\n",
    "        res = self._extend_with_top_popular(res, N=N)\n",
    "\n",
    "        assert len(res) == N, 'Количество рекомендаций != {}'.format(N)\n",
    "        return res\n",
    "\n",
    "    def get_als_recommendations(self, user, N=5):\n",
    "        \"\"\"Рекомендации через стардартные библиотеки implicit\"\"\"\n",
    "\n",
    "        self._update_dict(user_id=user)\n",
    "        return self._get_recommendations(user, model=self.model, N=N)\n",
    "\n",
    "    def get_own_recommendations(self, user, N=5):\n",
    "        \"\"\"Рекомендуем товары среди тех, которые юзер уже купил\"\"\"\n",
    "\n",
    "        self._update_dict(user_id=user)\n",
    "        return self._get_recommendations(user, model=self.own_recommender, N=N)\n",
    "\n",
    "    def get_similar_items_recommendation(self, user, N=5):\n",
    "        \"\"\"Рекомендуем товары, похожие на топ-N купленных юзером товаров\"\"\"\n",
    "        self._update_dict(user_id=user)\n",
    "        \n",
    "        top_users_purchases = self.top_purchases[self.top_purchases[USER_COL] == user].head(N)\n",
    "\n",
    "        res = top_users_purchases[ITEM_COL].apply(lambda x: self.id_to_itemid[\n",
    "                                                            self._get_similar_items(x, N=2)[0][1]\n",
    "                                                            ]).tolist()\n",
    "        res = self._extend_with_top_popular(res, N=N)\n",
    "\n",
    "        assert len(res) == N, 'Количество рекомендаций != {}'.format(N)\n",
    "        return res\n",
    "    \n",
    "    def get_similar_users_recommendation(self, user, N=5):\n",
    "        \"\"\"Рекомендуем топ-N товаров, среди купленных похожими юзерами\"\"\"\n",
    "        self._update_dict(user_id=user)\n",
    "        \n",
    "        res = []\n",
    "\n",
    "        # Находим топ-N похожих пользователей\n",
    "        similar_users = self.model.similar_users(self.userid_to_id[user], N=N+1)\n",
    "        similar_users = [pair for pair in similar_users[0]]\n",
    "        similar_users = similar_users[1:]   # удалим юзера из запроса\n",
    "        \n",
    "        for userid in similar_users:\n",
    "            res.extend(self.get_own_recommendations(self.id_to_userid[userid], N=N))\n",
    "            \n",
    "        res = self._extend_with_top_popular(res, N=N)\n",
    "\n",
    "        assert len(res) == N, 'Количество рекомендаций != {}'.format(N)\n",
    "        return res"
   ]
  },
  {
   "cell_type": "markdown",
   "metadata": {},
   "source": [
    "### Prepare data"
   ]
  },
  {
   "cell_type": "code",
   "execution_count": 4,
   "metadata": {},
   "outputs": [],
   "source": [
    "data = pd.read_csv('../data/retail_train.csv')\n",
    "\n",
    "data.columns = [col.lower() for col in data.columns]\n",
    "data.rename(columns={'household_key': 'user_id',\n",
    "                    'product_id': 'item_id'},\n",
    "           inplace=True)\n",
    "\n",
    "test_size_weeks = 3\n",
    "\n",
    "data_train = data[data['week_no'] < data['week_no'].max() - test_size_weeks]\n",
    "data_test = data[data['week_no'] >= data['week_no'].max() - test_size_weeks]\n",
    "\n",
    "item_features = pd.read_csv('../features_data/product.csv')\n",
    "item_features.columns = [col.lower() for col in item_features.columns]\n",
    "item_features.rename(columns={'product_id': 'item_id'}, inplace=True)\n",
    "\n",
    "result = data_test.groupby('user_id')['item_id'].unique().reset_index()\n",
    "result.columns=['user_id', 'actual']"
   ]
  },
  {
   "cell_type": "code",
   "execution_count": 5,
   "metadata": {},
   "outputs": [
    {
     "name": "stdout",
     "output_type": "stream",
     "text": [
      "== Starting prefilter info ==\n",
      "shape: (2278490, 12)\n",
      "# users: 2499\n",
      "# items: 86865\n",
      "Sparsity: 1.050%\n",
      "== Ending prefilter info ==\n",
      "shape: (641574, 13)\n",
      "# users: 2474\n",
      "# items: 5000\n",
      "Sparsity: 5.187%\n",
      "\u001b[1mnew_columns:\u001b[0m {'price'}\n"
     ]
    }
   ],
   "source": [
    "data_train = prefilter_items(data_train, item_features)"
   ]
  },
  {
   "cell_type": "code",
   "execution_count": 6,
   "metadata": {},
   "outputs": [
    {
     "data": {
      "text/html": [
       "<div>\n",
       "<style scoped>\n",
       "    .dataframe tbody tr th:only-of-type {\n",
       "        vertical-align: middle;\n",
       "    }\n",
       "\n",
       "    .dataframe tbody tr th {\n",
       "        vertical-align: top;\n",
       "    }\n",
       "\n",
       "    .dataframe thead th {\n",
       "        text-align: right;\n",
       "    }\n",
       "</style>\n",
       "<table border=\"1\" class=\"dataframe\">\n",
       "  <thead>\n",
       "    <tr style=\"text-align: right;\">\n",
       "      <th></th>\n",
       "      <th>user_id</th>\n",
       "      <th>basket_id</th>\n",
       "      <th>day</th>\n",
       "      <th>item_id</th>\n",
       "      <th>quantity</th>\n",
       "      <th>sales_value</th>\n",
       "      <th>store_id</th>\n",
       "      <th>retail_disc</th>\n",
       "      <th>trans_time</th>\n",
       "      <th>week_no</th>\n",
       "      <th>coupon_disc</th>\n",
       "      <th>coupon_match_disc</th>\n",
       "      <th>price</th>\n",
       "    </tr>\n",
       "  </thead>\n",
       "  <tbody>\n",
       "    <tr>\n",
       "      <th>0</th>\n",
       "      <td>2375</td>\n",
       "      <td>26984851472</td>\n",
       "      <td>1</td>\n",
       "      <td>1004906</td>\n",
       "      <td>1</td>\n",
       "      <td>1.39</td>\n",
       "      <td>364</td>\n",
       "      <td>-0.60</td>\n",
       "      <td>1631</td>\n",
       "      <td>1</td>\n",
       "      <td>0.0</td>\n",
       "      <td>0.0</td>\n",
       "      <td>1.39</td>\n",
       "    </tr>\n",
       "    <tr>\n",
       "      <th>4</th>\n",
       "      <td>2375</td>\n",
       "      <td>26984851472</td>\n",
       "      <td>1</td>\n",
       "      <td>8160430</td>\n",
       "      <td>1</td>\n",
       "      <td>1.50</td>\n",
       "      <td>364</td>\n",
       "      <td>-0.39</td>\n",
       "      <td>1631</td>\n",
       "      <td>1</td>\n",
       "      <td>0.0</td>\n",
       "      <td>0.0</td>\n",
       "      <td>1.50</td>\n",
       "    </tr>\n",
       "    <tr>\n",
       "      <th>6</th>\n",
       "      <td>2375</td>\n",
       "      <td>26984851516</td>\n",
       "      <td>1</td>\n",
       "      <td>99999</td>\n",
       "      <td>1</td>\n",
       "      <td>1.57</td>\n",
       "      <td>364</td>\n",
       "      <td>-0.68</td>\n",
       "      <td>1642</td>\n",
       "      <td>1</td>\n",
       "      <td>0.0</td>\n",
       "      <td>0.0</td>\n",
       "      <td>1.57</td>\n",
       "    </tr>\n",
       "    <tr>\n",
       "      <th>8</th>\n",
       "      <td>2375</td>\n",
       "      <td>26984851516</td>\n",
       "      <td>1</td>\n",
       "      <td>1102651</td>\n",
       "      <td>1</td>\n",
       "      <td>1.89</td>\n",
       "      <td>364</td>\n",
       "      <td>0.00</td>\n",
       "      <td>1642</td>\n",
       "      <td>1</td>\n",
       "      <td>0.0</td>\n",
       "      <td>0.0</td>\n",
       "      <td>1.89</td>\n",
       "    </tr>\n",
       "    <tr>\n",
       "      <th>19</th>\n",
       "      <td>1130</td>\n",
       "      <td>26984905972</td>\n",
       "      <td>1</td>\n",
       "      <td>1048462</td>\n",
       "      <td>1</td>\n",
       "      <td>1.19</td>\n",
       "      <td>31642</td>\n",
       "      <td>-0.80</td>\n",
       "      <td>1340</td>\n",
       "      <td>1</td>\n",
       "      <td>0.0</td>\n",
       "      <td>0.0</td>\n",
       "      <td>1.19</td>\n",
       "    </tr>\n",
       "  </tbody>\n",
       "</table>\n",
       "</div>"
      ],
      "text/plain": [
       "    user_id    basket_id  day  item_id  quantity  sales_value  store_id  \\\n",
       "0      2375  26984851472    1  1004906         1         1.39       364   \n",
       "4      2375  26984851472    1  8160430         1         1.50       364   \n",
       "6      2375  26984851516    1    99999         1         1.57       364   \n",
       "8      2375  26984851516    1  1102651         1         1.89       364   \n",
       "19     1130  26984905972    1  1048462         1         1.19     31642   \n",
       "\n",
       "    retail_disc  trans_time  week_no  coupon_disc  coupon_match_disc  price  \n",
       "0         -0.60        1631        1          0.0                0.0   1.39  \n",
       "4         -0.39        1631        1          0.0                0.0   1.50  \n",
       "6         -0.68        1642        1          0.0                0.0   1.57  \n",
       "8          0.00        1642        1          0.0                0.0   1.89  \n",
       "19        -0.80        1340        1          0.0                0.0   1.19  "
      ]
     },
     "execution_count": 6,
     "metadata": {},
     "output_type": "execute_result"
    }
   ],
   "source": [
    "data_train.head()"
   ]
  },
  {
   "cell_type": "code",
   "execution_count": 7,
   "metadata": {},
   "outputs": [],
   "source": [
    "data_test = data_test.loc[data_test.user_id.isin(data_train.user_id.unique())]"
   ]
  },
  {
   "cell_type": "markdown",
   "metadata": {},
   "source": [
    "### Train recommender"
   ]
  },
  {
   "cell_type": "code",
   "execution_count": 8,
   "metadata": {
    "scrolled": true
   },
   "outputs": [
    {
     "data": {
      "application/vnd.jupyter.widget-view+json": {
       "model_id": "fcbfdacddfa048a0b8dc6ff9610b57bb",
       "version_major": 2,
       "version_minor": 0
      },
      "text/plain": [
       "  0%|          | 0/15 [00:00<?, ?it/s]"
      ]
     },
     "metadata": {},
     "output_type": "display_data"
    },
    {
     "data": {
      "application/vnd.jupyter.widget-view+json": {
       "model_id": "a5813385643d42c0bdde72ce733b030c",
       "version_major": 2,
       "version_minor": 0
      },
      "text/plain": [
       "  0%|          | 0/5000 [00:00<?, ?it/s]"
      ]
     },
     "metadata": {},
     "output_type": "display_data"
    }
   ],
   "source": [
    "mr = MainRecommender(data_train)"
   ]
  },
  {
   "cell_type": "markdown",
   "metadata": {},
   "source": [
    "### Get recommendations"
   ]
  },
  {
   "cell_type": "code",
   "execution_count": 9,
   "metadata": {},
   "outputs": [],
   "source": [
    "user_to_recommend = 1"
   ]
  },
  {
   "cell_type": "code",
   "execution_count": 10,
   "metadata": {
    "scrolled": true
   },
   "outputs": [
    {
     "name": "stdout",
     "output_type": "stream",
     "text": [
      "user_id    similarity\n",
      "1          0.99999994\n",
      "367        0.8556664\n",
      "1234       0.8379306\n",
      "1121       0.83521575\n",
      "1376       0.83106863\n"
     ]
    }
   ],
   "source": [
    "sim_users = mr.model.similar_users(mr.userid_to_id[user_to_recommend], N=5)\n",
    "recs = [(mr.id_to_userid[uid], sim) for uid, sim in zip(sim_users[0], sim_users[1])]\n",
    "print('user_id    similarity')\n",
    "for rec in recs:\n",
    "    print(str(int(rec[0])).ljust(10), rec[1])"
   ]
  },
  {
   "cell_type": "code",
   "execution_count": 11,
   "metadata": {},
   "outputs": [
    {
     "data": {
      "text/plain": [
       "[904360, 883404, 1133018, 951590, 961554]"
      ]
     },
     "execution_count": 11,
     "metadata": {},
     "output_type": "execute_result"
    }
   ],
   "source": [
    "# recommend items by similar_users with extend popular\n",
    "mr.get_similar_users_recommendation(user_to_recommend, N=5)"
   ]
  },
  {
   "cell_type": "code",
   "execution_count": 12,
   "metadata": {},
   "outputs": [
    {
     "name": "stdout",
     "output_type": "stream",
     "text": [
      "item_id    similarity\n",
      "28897      0.9999999\n",
      "43871      0.7217138\n",
      "201704     0.71223605\n",
      "99999      0.4713153\n",
      "938141     0.461287\n"
     ]
    }
   ],
   "source": [
    "item_to_recommend = 0\n",
    "recs = mr.model.similar_items(item_to_recommend, N=5)\n",
    "\n",
    "\n",
    "recs = [(mr.id_to_itemid[iid], sim) for (iid, sim) in zip(recs[0], recs[1])]\n",
    "print('item_id    similarity')\n",
    "for rec in recs:\n",
    "    print(str(int(rec[0])).ljust(10), rec[1])"
   ]
  },
  {
   "cell_type": "code",
   "execution_count": 13,
   "metadata": {
    "scrolled": true
   },
   "outputs": [
    {
     "name": "stdout",
     "output_type": "stream",
     "text": [
      "[1006546, 894968, 1049897, 927498, 1082212]\n"
     ]
    }
   ],
   "source": [
    "sim_item_recs = mr.get_similar_items_recommendation(user_to_recommend)\n",
    "print(sim_item_recs)"
   ]
  },
  {
   "cell_type": "code",
   "execution_count": 14,
   "metadata": {},
   "outputs": [],
   "source": [
    "recs = mr.get_als_recommendations(user_to_recommend, 50)\n",
    "bought = data_train[data_train['user_id'] == user_to_recommend].item_id.unique()"
   ]
  },
  {
   "cell_type": "code",
   "execution_count": 15,
   "metadata": {
    "scrolled": true
   },
   "outputs": [
    {
     "data": {
      "text/plain": [
       "(0.013986013986013986, 0.4)"
      ]
     },
     "execution_count": 15,
     "metadata": {},
     "output_type": "execute_result"
    }
   ],
   "source": [
    "recall_at_k(recommended_list=recs, bought_list=bought), precision_at_k(recommended_list=recs, bought_list=bought)"
   ]
  },
  {
   "cell_type": "code",
   "execution_count": 16,
   "metadata": {},
   "outputs": [],
   "source": [
    "def print_eval_stats(name, recs, bought):\n",
    "    print('{:*^21}'.format(name))\n",
    "    p = precision_at_k(recommended_list=recs, bought_list=bought, k=5)\n",
    "    average_precisions[name].append(p)\n",
    "    print('precision@5: {:.3f}'.format(p))\n",
    "    r = recall_at_k(recommended_list=recs, bought_list=bought, k=50)\n",
    "    average_recalls[name].append(r)\n",
    "    print('recall@50: {:.3f}'.format(r))"
   ]
  },
  {
   "cell_type": "code",
   "execution_count": 17,
   "metadata": {
    "scrolled": true
   },
   "outputs": [
    {
     "name": "stdout",
     "output_type": "stream",
     "text": [
      "CPU times: user 6h 15min 31s, sys: 22min 5s, total: 6h 37min 36s\n",
      "Wall time: 6h 21min 8s\n"
     ]
    }
   ],
   "source": [
    "%%time\n",
    "N=50\n",
    "\n",
    "# i want to store evaluation data\n",
    "model_names =  ('similar users', 'similar items', 'ALS', 'own recommendations')\n",
    "average_precisions = {k: [] for k in model_names}\n",
    "average_recalls = {k: [] for k in model_names}\n",
    "\n",
    "for user in data_test.user_id.unique():\n",
    "    actual = data_test[data_test.user_id==user].item_id.unique().tolist()\n",
    "    \n",
    "    sim_user_rec = mr.get_similar_users_recommendation(user, N=N)\n",
    "    sim_item_rec = mr.get_similar_items_recommendation(user, N=N)\n",
    "    als_rec = mr.get_als_recommendations(user, N=N)\n",
    "    own_rec = mr.get_own_recommendations(user, N=N)\n",
    "    \n",
    "#     print('USER: {}'.format(user))    \n",
    "    for rec, name in ((sim_user_rec, 'similar users'), (sim_item_rec, 'similar items'), (als_rec, 'ALS'), (own_rec, 'own recommendations')):\n",
    "        average_precisions[name].append(precision_at_k(rec, actual, k=5))\n",
    "        average_recalls[name].append(recall_at_k(rec, actual, k=50))"
   ]
  },
  {
   "cell_type": "code",
   "execution_count": 18,
   "metadata": {},
   "outputs": [
    {
     "name": "stdout",
     "output_type": "stream",
     "text": [
      "                      average precision@5 by 10 test users\n",
      "       similar users  0.082946\n",
      "       similar items  0.075095\n",
      "                 ALS  0.132674\n",
      " own recommendations  0.082946\n"
     ]
    }
   ],
   "source": [
    "print('average precision@5 by 10 test users'.rjust(58))\n",
    "for key, value in average_precisions.items():\n",
    "    print('{}  {:.6f}'.format(key.rjust(20), np.mean(value)))"
   ]
  },
  {
   "cell_type": "code",
   "execution_count": 19,
   "metadata": {},
   "outputs": [
    {
     "name": "stdout",
     "output_type": "stream",
     "text": [
      "                      average recall@50 by 10 test users\n",
      "       similar users  0.058604\n",
      "       similar items  0.038477\n",
      "                 ALS  0.074018\n",
      " own recommendations  0.058584\n"
     ]
    }
   ],
   "source": [
    "print('average recall@50 by 10 test users'.rjust(56))\n",
    "for key, value in average_recalls.items():\n",
    "    print('{}  {:.6f}'.format(key.rjust(20), np.mean(value)))"
   ]
  }
 ],
 "metadata": {
  "kernelspec": {
   "display_name": "Python 3 (ipykernel)",
   "language": "python",
   "name": "python3"
  },
  "language_info": {
   "codemirror_mode": {
    "name": "ipython",
    "version": 3
   },
   "file_extension": ".py",
   "mimetype": "text/x-python",
   "name": "python",
   "nbconvert_exporter": "python",
   "pygments_lexer": "ipython3",
   "version": "3.9.12"
  },
  "toc": {
   "base_numbering": 1,
   "nav_menu": {},
   "number_sections": true,
   "sideBar": true,
   "skip_h1_title": false,
   "title_cell": "Table of Contents",
   "title_sidebar": "Contents",
   "toc_cell": false,
   "toc_position": {},
   "toc_section_display": true,
   "toc_window_display": false
  },
  "vscode": {
   "interpreter": {
    "hash": "090ad81762ad62c6a5ce116f900fa623eaf7b1cd6cd0ef3f9318ace1340958a3"
   }
  }
 },
 "nbformat": 4,
 "nbformat_minor": 2
}
