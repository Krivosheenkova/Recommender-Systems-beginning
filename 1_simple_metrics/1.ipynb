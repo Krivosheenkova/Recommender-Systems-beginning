{
 "cells": [
  {
   "cell_type": "markdown",
   "source": [
    "**Практическая работа #1**"
   ],
   "metadata": {}
  },
  {
   "cell_type": "markdown",
   "source": [
    "1. hit rate at k\n",
    "\n",
    "2. money_precision_at_k\n",
    "\n",
    "3. recall_at_k\n",
    "4. money_recall_at_k\n",
    "\n",
    "5. map@k\n",
    "6. *NDCG@k - для оценок пользователей (1-3) по учебному примеру из лекции\n",
    "\n",
    "7. Mean Reciprocal Rank\n",
    "8. *average_precision для ранжирования по примеру с картинки лекции\n",
    "\n"
   ],
   "metadata": {}
  },
  {
   "cell_type": "code",
   "execution_count": 27,
   "source": [
    "import numpy as np"
   ],
   "outputs": [],
   "metadata": {}
  },
  {
   "cell_type": "markdown",
   "source": [
    "### 1. Hit rate\n",
    "\n",
    "Hit rate = был ли хотя бы 1 релевантный товар среди рекомендованных\n",
    "\n",
    "- Иногда применяется, когда продаются достаточно дрогие товары (например, бытовая техника) \n",
    "\n",
    "----\n",
    "Hit rate = (был ли хотя бы 1 релевантный товар среди рекомендованных)   \n",
    "\n",
    "Hit rate@k = (был ли хотя бы 1 релевантный товар среди топ-k рекомендованных)"
   ],
   "metadata": {}
  },
  {
   "cell_type": "code",
   "execution_count": 6,
   "source": [
    "recommended_list = [143, 156, 1134, 991, 27, 1543, 3345, 533, 11, 43] #id товаров\n",
    "bought_list = [521, 32, 143, 991]\n",
    "np.random.seed(0)\n",
    "prices_recommended = np.random.randint(1e3, size=len(recommended_list))\n",
    "\n",
    "prices_bought = [prices_recommended[i] if (recommended_list[i] in bought_list) else np.random.randint(1e3) for i in range(len(bought_list))] \n",
    "\n",
    "def hit_rate_at_k(recommended_list, bought_list, k=5):\n",
    "    \"\"\"\n",
    "    Returns 1 if there was at least one relevant product \n",
    "    among the k (default 5) recommended products\n",
    "    \"\"\"\n",
    "    bought_list = np.array(bought_list)\n",
    "    recommended_list = np.array(recommended_list)[:k]\n",
    "\n",
    "    flags = np.isin(bought_list, recommended_list)\n",
    "    print('flags:\\t\\t\\t{}'.format(flags))\n",
    "\n",
    "    hit_rate = (flags.sum() > 0) * 1\n",
    "\n",
    "    return hit_rate\n",
    "    \n",
    "print('recommended_list:\\t{}'.format(recommended_list))\n",
    "print('bought_list:\\t\\t{}'.format(bought_list))\n",
    "hr = hit_rate_at_k(recommended_list, bought_list)\n",
    "print('hit rate:\\t\\t{}'.format(hr))"
   ],
   "outputs": [
    {
     "output_type": "stream",
     "name": "stdout",
     "text": [
      "recommended_list:\t[143, 156, 1134, 991, 27, 1543, 3345, 533, 11, 43]\n",
      "bought_list:\t\t[521, 32, 143, 991]\n",
      "flags:\t\t\t[False False  True  True]\n",
      "hit rate:\t\t1\n"
     ]
    }
   ],
   "metadata": {}
  },
  {
   "cell_type": "markdown",
   "source": [
    "### 2. Precision\n",
    "\n",
    "*Precision* - доля релевантных товаров среди рекомендованных = Какой % рекомендованных товаров  юзер купил\n",
    "\n",
    "---\n",
    "\n",
    "Precision= (# of recommended items that are relevant) / (# of recommended items)  \n",
    "\n",
    "Precision@k = (# of recommended items @k that are relevant) / (# of recommended items @k)\n",
    "\n",
    "Money Precision@k = (revenue of recommended items @k that are relevant) / (revenue of recommended items @k)  \n"
   ],
   "metadata": {}
  },
  {
   "cell_type": "code",
   "execution_count": 7,
   "source": [
    "def precision_at_k(recommended_list, bought_list, k=5):\n",
    "    \"\"\"Precision measures how accurate is our predictions.\"\"\"\n",
    "    recommended_list = recommended_list[:k]\n",
    "        \n",
    "    flags = np.isin(bought_list, recommended_list)\n",
    "    precision = flags.sum() / len(recommended_list)\n",
    "    \n",
    "    return precision\n",
    "\n",
    "\n",
    "def money_precision_at_k(recommended_list, bought_list, prices_recommended, k=5):\n",
    "    bought_list = np.array(bought_list) \n",
    "\n",
    "    recommended_list = np.array(recommended_list)[:k]\n",
    "    prices_recommended = np.array(prices_recommended)[:k]\n",
    "\n",
    "    relevant_revenue = sum(prices_recommended[np.isin(recommended_list, bought_list)])\n",
    "    recommend_revenue = sum(prices_recommended)\n",
    "\n",
    "    precision = relevant_revenue / recommend_revenue\n",
    "    #info\n",
    "    print(\"rec_items:\\t\\t{}\".format(recommended_list), \n",
    "          \"\\nrec_prices:\\t\\t{} (sum = {})\".format(prices_recommended, recommend_revenue),\n",
    "          \"\\nbought_items:\\t\\t{}\".format(bought_list))\n",
    "    print(\"relevant_revenue:\\t{}\".format(relevant_revenue))\n",
    "\n",
    "    return precision\n",
    "k=5\n",
    "mp = money_precision_at_k(recommended_list, bought_list, prices_recommended, k)\n",
    "print(\"money precision@{}:\\t{}\".format(\n",
    "    k, mp\n",
    "    ))\n",
    "\n",
    "print('\\nПользователь потратил около %.f' % (mp*100) \\\n",
    "     +f'% от суммы стоимостей топ-{k} рекомендованных товаров' )"
   ],
   "outputs": [
    {
     "output_type": "stream",
     "name": "stdout",
     "text": [
      "rec_items:\t\t[ 143  156 1134  991   27] \n",
      "rec_prices:\t\t[684 559 629 192 835] (sum = 2899) \n",
      "bought_items:\t\t[521  32 143 991]\n",
      "relevant_revenue:\t876\n",
      "money precision@5:\t0.30217316315971027\n",
      "\n",
      "Пользователь потратил около 30% от суммы стоимостей топ-5 рекомендованных товаров\n"
     ]
    }
   ],
   "metadata": {}
  },
  {
   "cell_type": "markdown",
   "source": [
    "### 3. Recall\n",
    "\n",
    "*Recall* - доля рекомендованных товаров среди релевантных = Какой % купленных товаров был среди рекомендованных\n",
    "\n",
    "---\n",
    "\n",
    "Recall= (# of recommended items that are relevant) / (# of relevant items)  \n",
    "\n",
    "Recall@k = (# of recommended items @k that are relevant) / (# of relevant items)\n",
    "\n",
    "Money Recall@k = (revenue of recommended items @k that are relevant) / (revenue of relevant items)  "
   ],
   "metadata": {}
  },
  {
   "cell_type": "code",
   "execution_count": 8,
   "source": [
    "def recall_at_k(recommended_list, bought_list, k=5):\n",
    "    \"\"\"Recall measures how good you find all the positives.\"\"\"\n",
    "    bought_list = np.array(bought_list)\n",
    "    recommended_list = np.array(recommended_list)[:k]\n",
    "\n",
    "    flags = np.isin(bought_list, recommended_list)\n",
    "    recall = flags.sum() / len(bought_list)\n",
    " \n",
    "    return recall\n",
    "\n",
    "\n",
    "def money_recall_at_k(recommended_list, bought_list, prices_recommended, prices_bought, k=5):\n",
    "\n",
    "    prices_bought = np.array(prices_bought)\n",
    "    recommended_list = np.array(recommended_list)[:k]\n",
    "    prices_recommended = np.array(prices_recommended)[:k]\n",
    "\n",
    "    # revenue of relevant recommended items \n",
    "    relevant_revenue = sum(prices_recommended[np.isin(recommended_list, bought_list)])\n",
    "    # revenue of relevant items\n",
    "    total_revenue = sum(prices_bought)\n",
    "    recall = relevant_revenue / total_revenue\n",
    "    \n",
    "    # info\n",
    "    print(\"recommended_list @{}:\\t{}\".format(k, recommended_list))\n",
    "    print(\"prices_recommended @{}:\\t{}\".format(k, prices_recommended))\n",
    "    print(\"bought_list:\\t\\t{}\".format(bought_list))\n",
    "    print(\"prices_bought:\\t\\t{} (sum = {})\".format(prices_bought, total_revenue))\n",
    "    print(\"relevant_revenue:\\t{}\".format(relevant_revenue))\n",
    "    print('money_recall @{}:\\t{}'.format(k, recall))\n",
    "    return recall\n",
    "\n",
    "mr = money_recall_at_k(recommended_list, bought_list, prices_recommended, prices_bought)\n",
    "print(\"\\nОколо %.f\" % (mr*100)+'% дохода от пользователя было предсказано рекомендацией.')"
   ],
   "outputs": [
    {
     "output_type": "stream",
     "name": "stdout",
     "text": [
      "recommended_list @5:\t[ 143  156 1134  991   27]\n",
      "prices_recommended @5:\t[684 559 629 192 835]\n",
      "bought_list:\t\t[521, 32, 143, 991]\n",
      "prices_bought:\t\t[684 277 754 192] (sum = 1907)\n",
      "relevant_revenue:\t876\n",
      "money_recall @5:\t0.4593602517042475\n",
      "\n",
      "Около 46% дохода от пользователя было предсказано рекомендацией.\n"
     ]
    }
   ],
   "metadata": {}
  },
  {
   "cell_type": "markdown",
   "source": [
    "## AP@k\n",
    "AP@k - average precision at k\n",
    "$$Average\\,Precision = {{\\sum\\nolimits _{r}P @ r}\\over {R}}$$\n",
    "- r - кол-во релевантных среди рекомендованных\n",
    "- Суммируем по всем релевантным товарам\n",
    "- Зависит от порядка рекомендаций"
   ],
   "metadata": {}
  },
  {
   "cell_type": "code",
   "execution_count": 9,
   "source": [
    "def average_precision_at_k(bought_list, recommended_list, k=5):\n",
    "    \"\"\"\n",
    "    Computes the average precision at k.\n",
    "    This function computes the average prescision at k between two lists of\n",
    "    items.\n",
    "    Parameters\n",
    "    ----------\n",
    "    bought_list : list\n",
    "            A list of elements that are to be recommended (order doesn't matter)\n",
    "    recommended_list : list\n",
    "            A list of recommended elements (order does matter)\n",
    "    k : int, optional\n",
    "            Select k top elements\n",
    "    Returns\n",
    "    -------\n",
    "    score : double\n",
    "            The average precision at k over the input lists\n",
    "    \"\"\"\n",
    "    if len(recommended_list)>k:\n",
    "        recommended_list = recommended_list[:k]\n",
    "    print('bought_list:', bought_list)\n",
    "    print(f'recommender_list@{k}:', recommended_list)\n",
    "    score = 0.0\n",
    "    num_hits = 0.0\n",
    "\n",
    "    for i,p in enumerate(recommended_list):\n",
    "        if p in bought_list:\n",
    "            num_hits += 1.0\n",
    "            score += precision_at_k(recommended_list[:i+1], bought_list, i+1)\n",
    "    if not bought_list:\n",
    "        return 0.0\n",
    "    return score / len(bought_list)\n",
    "\n",
    "\n",
    "print(f'AP@{k} =', average_precision_at_k(bought_list, recommended_list, k))"
   ],
   "outputs": [
    {
     "output_type": "stream",
     "name": "stdout",
     "text": [
      "bought_list: [521, 32, 143, 991]\n",
      "recommender_list@5: [143, 156, 1134, 991, 27]\n",
      "AP@5 = 0.375\n"
     ]
    }
   ],
   "metadata": {}
  },
  {
   "cell_type": "markdown",
   "source": [
    "## MAP@k\n",
    "\n",
    "MAP@k (Mean Average Precision@k)  \n",
    "Среднее AP@k по всем юзерам\n",
    "- Показывает средневзвешенную точность рекомендаций\n",
    "\n",
    "$$MAP@k = \\frac{1}{|U|} \\sum_u{AP_k}$$\n",
    "  \n",
    "|U| - кол-во юзеров\n"
   ],
   "metadata": {}
  },
  {
   "cell_type": "code",
   "execution_count": 10,
   "source": [
    "# Добавлю еще пару пользователей с одинаковыми рекомендациями для этой задачи\n",
    "actual = [[521, 32, 143, 991], [432, 479, 1134, 156, 43], [34, 156, 43, 1134]]\n",
    "recs = [recommended_list]*3\n",
    "\n",
    "def map_k(recommended_list, bought_list, k):\n",
    "    \n",
    "    n_users = len(bought_list) \n",
    "    print('n_users:', n_users)\n",
    "    sum_ = 0\n",
    "    for u in range(n_users):\n",
    "        print(f'\\n{u+1}')\n",
    "        ap_k = average_precision_at_k(bought_list[u], recommended_list[u], k)\n",
    "        sum_ += ap_k\n",
    "        print(f'apk: {ap_k}')\n",
    "    result = sum_ / n_users\n",
    "    \n",
    "    return result\n",
    "k=5\n",
    "print(f'------\\nMAP@{k} =', map_k(recs, actual, k))\n"
   ],
   "outputs": [
    {
     "output_type": "stream",
     "name": "stdout",
     "text": [
      "n_users: 3\n",
      "\n",
      "1\n",
      "bought_list: [521, 32, 143, 991]\n",
      "recommender_list@5: [143, 156, 1134, 991, 27]\n",
      "apk: 0.375\n",
      "\n",
      "2\n",
      "bought_list: [432, 479, 1134, 156, 43]\n",
      "recommender_list@5: [143, 156, 1134, 991, 27]\n",
      "apk: 0.2333333333333333\n",
      "\n",
      "3\n",
      "bought_list: [34, 156, 43, 1134]\n",
      "recommender_list@5: [143, 156, 1134, 991, 27]\n",
      "apk: 0.29166666666666663\n",
      "------\n",
      "MAP@5 = 0.3\n"
     ]
    }
   ],
   "metadata": {}
  },
  {
   "cell_type": "markdown",
   "source": [
    "## NDCG@k\n",
    "Normalized discounted cumulative gain\n",
    "\n",
    "$$DCG = \\frac{1}{|r|} \\sum_u{\\frac{[bought fact]}{discount(i)}}$$  \n",
    "\n",
    "$discount(i) = 1$ if $i <= 2$,   \n",
    "$discount(i) = log_2(i)$ if $i > 2$\n",
    "\n",
    "\n",
    "<p style='color:red'>(!) Считаем для первых k рекоммендаций   </p> \n",
    "<p style='color:red'>(!) - существуют вариации с другими $discount(i)$</p>  \n",
    "i - ранк рекомендованного товара  \n",
    "|r| - кол-во рекомендованных товаров \n"
   ],
   "metadata": {}
  },
  {
   "cell_type": "markdown",
   "source": [
    "\n",
    "$NDCG = \\frac{DCG}{ideal DCG}$\n",
    "\n",
    "$DCG@5 = \\frac{1}{5}*(1 / 1 + 0 / 2 + 0 / log(3) + 1 / log(4) + 0 / log(5))$  \n",
    "$ideal DCG@5 = \\frac{1}{5}*(1 / 1 + 1 / 2 + 1 / log(3) + 1 / log(4) + 1 / log(5))$  \n",
    "\n",
    "$NDCG = \\frac{DCG}{ideal DCG}$"
   ],
   "metadata": {}
  },
  {
   "cell_type": "code",
   "execution_count": 11,
   "source": [
    "def discount(flag, i):\n",
    "    if i <= 2:\n",
    "        return flag / i\n",
    "    else:\n",
    "        return flag / np.log2(i)\n",
    "\n",
    "\n",
    "def dcg_at_k(recommended_list, bought_list, k=5):\n",
    "    \"\"\"\n",
    "  Discounted Cumulative Gain\n",
    "  ------\n",
    "   Popular measure for evaluating web search and\n",
    "        related tasks\n",
    "   Two assumptions:\n",
    "      - Highly relevant documents are more useful\n",
    "        than marginally relevant document\n",
    "      - The lower the ranked position of a relevant\n",
    "        document, the less useful it is for the user,\n",
    "        since it is less likely to be examined\n",
    "    \n",
    "    Gain is accumulated starting at the top of the\n",
    "        ranking and may be reduced, or discounted, at lower ranks.\n",
    "        Typical discount is 1/log (rank)\n",
    "    \"\"\"\n",
    "    bought_list = np.array(bought_list)\n",
    "    recommended_list = recommended_list[:k]\n",
    "    rec_len = len(recommended_list)\n",
    "\n",
    "    bool_mask = np.isin(recommended_list, bought_list)\n",
    "    flags = bool_mask * 1\n",
    "\n",
    "    sum_ = 0\n",
    "    for i in range(1, rec_len+1):\n",
    "        sum_ += discount(flags[i-1], i)\n",
    "    dcg_score = sum_ / rec_len\n",
    "\n",
    "    return dcg_score\n",
    "\n",
    "\n",
    "def ideal_dcg(rec_len):\n",
    "    flags = np.ones(rec_len)\n",
    "    sum_ = 0\n",
    "    for i in range(1, rec_len+1):\n",
    "        sum_ += discount(flags[i-1], i)\n",
    "    ideal_dcg = sum_ / rec_len\n",
    "\n",
    "    return ideal_dcg\n",
    "\n",
    "\n",
    "def ndcg(recommended_list, bought_list, k=5):\n",
    "    dcg_score = dcg_at_k(recommended_list, bought_list, k)\n",
    "\n",
    "    if k:\n",
    "        rec_len = k   \n",
    "    else:\n",
    "        rec_len = len(recommended_list)\n",
    "    \n",
    "    return dcg_score / ideal_dcg(rec_len)\n",
    "\n",
    "\n",
    "print(\"DCG Score =\", dcg_at_k(recommended_list, bought_list, k=None))\n",
    "print(\"NDCG Score =\", ndcg(recommended_list, bought_list, k=None))\n",
    "print('-------')\n",
    "print(\"DCG Score@5 =\", dcg_at_k(recommended_list, bought_list))\n",
    "print(\"NDCG Score@5 =\", ndcg(recommended_list, bought_list))"
   ],
   "outputs": [
    {
     "output_type": "stream",
     "name": "stdout",
     "text": [
      "DCG Score = 0.15\n",
      "NDCG Score = 0.31549095204264654\n",
      "-------\n",
      "DCG Score@5 = 0.3\n",
      "NDCG Score@5 = 0.489938890671454\n"
     ]
    }
   ],
   "metadata": {}
  },
  {
   "cell_type": "markdown",
   "source": [
    "## MRR@k\n",
    "Mean Reciprocal Rank\n",
    "\n",
    "- Считаем для первых k рекоммендаций\n",
    "- Найти ранк первого релевантного предсказания $k_u$\n",
    "- Посчитать reciprocal rank = $\\frac{1}{k_u}$\n",
    "\n",
    "$$MRR = mean(\\frac{1}{k_u})$$"
   ],
   "metadata": {
    "id": "T7Y-Jtcdo1i6"
   }
  },
  {
   "cell_type": "code",
   "execution_count": 26,
   "source": [
    "def mean_reciprocal_rank(recommended_list, bought_list, k=5):\n",
    "    ranks = []\n",
    "    for u in range(len(bought_list)):\n",
    "        for c in bought_list[u]:\n",
    "\n",
    "            if c in recommended_list[u]:\n",
    "                print('recs:', recommended_list[u])\n",
    "                print('actual:', bought_list[u])\n",
    "                ranks.append(list(recommended_list[u]).index(c)+1)\n",
    "                print([ranks[u]], '\\n')\n",
    "                break\n",
    "    \n",
    "    reciprocal_ranks = list(map(lambda x: x**(-1), ranks))\n",
    "    print('reciprocal_ranks:', reciprocal_ranks)\n",
    "    mrr = np.mean(reciprocal_ranks)\n",
    "\n",
    "    return mrr\n",
    "\n",
    "mrr = mean_reciprocal_rank(recs, actual)\n",
    "print(\"------\\nMean Reciprocal Rank@5 =\", mrr)"
   ],
   "outputs": [
    {
     "output_type": "stream",
     "name": "stdout",
     "text": [
      "recs: [143, 156, 1134, 991, 27, 1543, 3345, 533, 11, 43]\n",
      "actual: [521, 32, 143, 991]\n",
      "[1] \n",
      "\n",
      "recs: [143, 156, 1134, 991, 27, 1543, 3345, 533, 11, 43]\n",
      "actual: [432, 479, 1134, 156, 43]\n",
      "[3] \n",
      "\n",
      "recs: [143, 156, 1134, 991, 27, 1543, 3345, 533, 11, 43]\n",
      "actual: [34, 156, 43, 1134]\n",
      "[2] \n",
      "\n",
      "reciprocal_ranks: [1.0, 0.3333333333333333, 0.5]\n",
      "------\n",
      "Mean Reciprocal Rank@5 = 0.611111111111111\n"
     ]
    }
   ],
   "metadata": {}
  }
 ],
 "metadata": {
  "orig_nbformat": 4,
  "language_info": {
   "name": "python",
   "version": "3.8.5",
   "mimetype": "text/x-python",
   "codemirror_mode": {
    "name": "ipython",
    "version": 3
   },
   "pygments_lexer": "ipython3",
   "nbconvert_exporter": "python",
   "file_extension": ".py"
  },
  "kernelspec": {
   "name": "python3",
   "display_name": "Python 3.8.5 64-bit ('base': conda)"
  },
  "interpreter": {
   "hash": "32086f9b7cc52bc2c8629421cf6cba175094c2e18299455caf64f8eb675094c9"
  }
 },
 "nbformat": 4,
 "nbformat_minor": 2
}